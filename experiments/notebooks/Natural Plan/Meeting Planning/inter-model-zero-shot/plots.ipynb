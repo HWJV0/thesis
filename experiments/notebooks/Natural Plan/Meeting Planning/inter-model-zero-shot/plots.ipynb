{
 "cells": [
  {
   "cell_type": "code",
   "execution_count": 5,
   "metadata": {},
   "outputs": [],
   "source": [
    "colors= [\"#0173B2\", \"#DE8F05\", \"#029E73\", \"#D55E00\", \"#CC78BC\", \"#CA9161\", \"#FBAFE4\", \"#949494\", \"#ECE133\", \"#56B4E9\", \"#348FC1\"]"
   ]
  },
  {
   "cell_type": "code",
   "execution_count": 6,
   "metadata": {},
   "outputs": [],
   "source": [
    "# Import necessary libraries\n",
    "import pandas as pd\n",
    "\n",
    "# Load the CSV data for all three models\n",
    "gpt4o_gemini_total_df = pd.read_csv(\"./results/gpt-4o_corrected_by_gemini-1.5-flash_stats.csv\")\n",
    "gemini_gpt4o__total_df = pd.read_csv(\"./results/gemini-1.5-flash_corrected_by_gpt-4o_stats.csv\")\n",
    "\n",
    "# Function to filter and rename the dataframes\n",
    "def filter_and_rename(df, method, correct_state, incorrect_state):\n",
    "    temp = df[(df['method'] == method) & (df['result_type'].isin([correct_state, incorrect_state]))].copy()\n",
    "    temp.loc[:, 'result_type'] = temp['result_type'].map({correct_state: 'correct', incorrect_state: 'incorrect'})\n",
    "    return temp\n",
    "\n",
    "# Function to process and filter data for each model\n",
    "def process_model_data(total_df):\n",
    "    filtered_total_df_list = [\n",
    "        total_df[total_df['method'] == 'cot_1'],\n",
    "        filter_and_rename(total_df, 'selfreflection_cot_2', 'correct_state_2', 'incorrect_state_2'),\n",
    "        filter_and_rename(total_df, 'reflexion_cot_2', 'correct_state_2', 'incorrect_state_2'),\n",
    "        filter_and_rename(total_df, 'selfreflection_cot_3', 'correct_state_3', 'incorrect_state_3'),\n",
    "        filter_and_rename(total_df, 'reflexion_cot_3', 'correct_state_3', 'incorrect_state_3')\n",
    "    ]\n",
    "\n",
    "    filtered_total_df = pd.concat(filtered_total_df_list, ignore_index=True)\n",
    "\n",
    "    correct_types = ['correct', 'correct_state_1', 'correct_state_2', 'correct_state_3']\n",
    "    incorrect_types = ['incorrect', 'incorrect_state_1', 'incorrect_state_2', 'incorrect_state_3']\n",
    "\n",
    "    # Categorize result types\n",
    "    def categorize_result(result_type):\n",
    "        if result_type in correct_types:\n",
    "            return 'correct'\n",
    "        elif result_type in incorrect_types:\n",
    "            return 'incorrect'\n",
    "        else:\n",
    "            return 'other'\n",
    "\n",
    "    filtered_total_df['result_category'] = filtered_total_df['result_type'].apply(categorize_result)\n",
    "    # Filter out 'other' categories\n",
    "    filtered_total_df = filtered_total_df[filtered_total_df['result_category'].isin(['correct', 'incorrect'])]\n",
    "\n",
    "    # Separate 'cot_1' data\n",
    "    cot1_df = filtered_total_df[filtered_total_df['method'] == 'cot_1']\n",
    "    other_methods_df = filtered_total_df[filtered_total_df['method'] != 'cot_1']\n",
    "\n",
    "    # Pivot the tables to get correct and incorrect counts per method and prompt_example\n",
    "    cot1_pivot = cot1_df.pivot_table(\n",
    "        index='method',\n",
    "        columns='result_category',\n",
    "        values='value',\n",
    "        aggfunc='sum',\n",
    "        fill_value=0\n",
    "    ).reset_index()\n",
    "\n",
    "    other_accuracy_pivot = other_methods_df.pivot_table(\n",
    "        index=['intermodel_scheme', 'method'],\n",
    "        columns='result_category',\n",
    "        values='value',\n",
    "        aggfunc='sum',\n",
    "        fill_value=0\n",
    "    ).reset_index()\n",
    "\n",
    "    # Calculate accuracy for 'cot_1'\n",
    "    cot1_pivot['accuracy'] = cot1_pivot['correct'] / (cot1_pivot['correct'] + cot1_pivot['incorrect'])\n",
    "    cot1_pivot['accuracy'] = cot1_pivot['accuracy'].fillna(0)\n",
    "\n",
    "    # Calculate accuracy for other methods\n",
    "    other_accuracy_pivot['accuracy'] = other_accuracy_pivot['correct'] / (other_accuracy_pivot['correct'] + other_accuracy_pivot['incorrect'])\n",
    "    other_accuracy_pivot['accuracy'] = other_accuracy_pivot['accuracy'].fillna(0)\n",
    "\n",
    "    return cot1_pivot, other_accuracy_pivot\n",
    "\n",
    "# Process data for each model\n",
    "gpt4o_gemini_cot1_pivot, gpt4o_gemini_other_accuracy_pivot = process_model_data(gpt4o_gemini_total_df)\n",
    "gemini_gpt4o_cot1_pivot, gemini_gpt4o_other_accuracy_pivot = process_model_data(gemini_gpt4o__total_df)\n",
    "\n",
    "# Add model names to the pivots\n",
    "gpt4o_gemini_cot1_pivot['model'] = 'gpt-4o'\n",
    "gemini_gpt4o_cot1_pivot['model'] = 'gemini-1.5-flash'\n",
    "\n",
    "# Combine all data into final pivot tables\n",
    "combined_cot1_pivot = pd.concat([gpt4o_gemini_cot1_pivot, gemini_gpt4o_cot1_pivot], ignore_index=True)\n",
    "combined_other_accuracy_pivot = pd.concat([gpt4o_gemini_other_accuracy_pivot, gemini_gpt4o_other_accuracy_pivot], ignore_index=True)\n"
   ]
  },
  {
   "cell_type": "code",
   "execution_count": 7,
   "metadata": {},
   "outputs": [],
   "source": [
    "# Define the desired order and method name mapping for all models\n",
    "desired_order = [\n",
    "    \"Basic Inter-Model Correction + CoT @ Trial 1\",\n",
    "    \"Basic Inter-Model Correction + CoT @ Trial 2\",\n",
    "    \"Oracle Inter-Model Correction + CoT @ Trial 1*\",\n",
    "    \"Oracle Inter-Model Correction + CoT @ Trial 2*\"\n",
    "]\n",
    "\n",
    "method_name_mapping = {\n",
    "    'selfreflection_cot_2': \"Basic Inter-Model Correction + CoT @ Trial 1\",\n",
    "    'selfreflection_cot_3': \"Basic Inter-Model Correction + CoT @ Trial 2\",\n",
    "    'reflexion_cot_2': \"Oracle Inter-Model Correction + CoT @ Trial 1*\",\n",
    "    'reflexion_cot_3': \"Oracle Inter-Model Correction + CoT @ Trial 2*\"\n",
    "}\n",
    "\n",
    "# Function to map method names, set categorical order, and sort dataframe\n",
    "def apply_method_name_mapping_and_sort(df):\n",
    "    # Apply the method name mapping\n",
    "    df['method'] = df['method'].map(method_name_mapping)\n",
    "    \n",
    "    # Ensure 'method' is a categorical variable with the desired order\n",
    "    df['method'] = pd.Categorical(df['method'], categories=desired_order, ordered=True)\n",
    "    \n",
    "    # Sort the DataFrame based on the categorical order\n",
    "    df = df.sort_values('method')\n",
    "    \n",
    "    return df\n",
    "\n",
    "# Apply the method name mapping and sorting to each model's other_accuracy_pivot\n",
    "gpt4o_gemini_other_accuracy_pivot = apply_method_name_mapping_and_sort(gpt4o_gemini_other_accuracy_pivot)\n",
    "gemini_gpt4o_other_accuracy_pivot = apply_method_name_mapping_and_sort(gemini_gpt4o_other_accuracy_pivot)\n",
    "\n",
    "# Combine all the dataframes into a single one for easier comparison\n",
    "combined_other_accuracy_pivot = pd.concat([gpt4o_gemini_other_accuracy_pivot, gemini_gpt4o_other_accuracy_pivot], ignore_index=True)\n",
    "\n",
    "method_colors = {\n",
    "    \"Basic Inter-Model Correction + CoT @ Trial 1\": colors[0],\n",
    "    \"Basic Inter-Model Correction + CoT @ Trial 2\": colors[0],\n",
    "    \"Oracle Inter-Model Correction + CoT @ Trial 1*\": colors[1],\n",
    "    \"Oracle Inter-Model Correction + CoT @ Trial 2*\": colors[1]\n",
    "}\n"
   ]
  },
  {
   "cell_type": "code",
   "execution_count": 8,
   "metadata": {},
   "outputs": [
    {
     "data": {
      "application/vnd.plotly.v1+json": {
       "config": {
        "plotlyServerURL": "https://plot.ly"
       },
       "data": [
        {
         "marker": {
          "color": "#D55E00",
          "pattern": {
           "shape": "/"
          }
         },
         "name": "Basic Inter-Model Correction + CoT @ Trial 1",
         "showlegend": true,
         "text": [
          "44.0"
         ],
         "textposition": "outside",
         "type": "bar",
         "x": [
          "Critical Prompt"
         ],
         "xaxis": "x",
         "y": [
          44
         ],
         "yaxis": "y"
        },
        {
         "marker": {
          "color": "#D55E00",
          "pattern": {
           "shape": "x"
          }
         },
         "name": "Basic Inter-Model Correction + CoT @ Trial 2",
         "showlegend": true,
         "text": [
          "45.5"
         ],
         "textposition": "outside",
         "type": "bar",
         "x": [
          "Critical Prompt"
         ],
         "xaxis": "x",
         "y": [
          45.5
         ],
         "yaxis": "y"
        },
        {
         "marker": {
          "color": "#CC78BC",
          "pattern": {
           "shape": "/"
          }
         },
         "name": "Oracle Inter-Model Correction + CoT @ Trial 1*",
         "showlegend": true,
         "text": [
          "63.0"
         ],
         "textposition": "outside",
         "type": "bar",
         "x": [
          "Critical Prompt"
         ],
         "xaxis": "x",
         "y": [
          63
         ],
         "yaxis": "y"
        },
        {
         "marker": {
          "color": "#CC78BC",
          "pattern": {
           "shape": "x"
          }
         },
         "name": "Oracle Inter-Model Correction + CoT @ Trial 2*",
         "showlegend": true,
         "text": [
          "64.5"
         ],
         "textposition": "outside",
         "type": "bar",
         "x": [
          "Critical Prompt"
         ],
         "xaxis": "x",
         "y": [
          64.5
         ],
         "yaxis": "y"
        },
        {
         "marker": {
          "color": "#D55E00",
          "pattern": {
           "shape": "/"
          }
         },
         "name": "Basic Inter-Model Correction + CoT @ Trial 1",
         "showlegend": false,
         "text": [
          "24.0"
         ],
         "textposition": "outside",
         "type": "bar",
         "x": [
          "Critical Prompt"
         ],
         "xaxis": "x2",
         "y": [
          24
         ],
         "yaxis": "y2"
        },
        {
         "marker": {
          "color": "#D55E00",
          "pattern": {
           "shape": "x"
          }
         },
         "name": "Basic Inter-Model Correction + CoT @ Trial 2",
         "showlegend": false,
         "text": [
          "28.0"
         ],
         "textposition": "outside",
         "type": "bar",
         "x": [
          "Critical Prompt"
         ],
         "xaxis": "x2",
         "y": [
          28.000000000000004
         ],
         "yaxis": "y2"
        },
        {
         "marker": {
          "color": "#CC78BC",
          "pattern": {
           "shape": "/"
          }
         },
         "name": "Oracle Inter-Model Correction + CoT @ Trial 1*",
         "showlegend": false,
         "text": [
          "34.5"
         ],
         "textposition": "outside",
         "type": "bar",
         "x": [
          "Critical Prompt"
         ],
         "xaxis": "x2",
         "y": [
          34.5
         ],
         "yaxis": "y2"
        },
        {
         "marker": {
          "color": "#CC78BC",
          "pattern": {
           "shape": "x"
          }
         },
         "name": "Oracle Inter-Model Correction + CoT @ Trial 2*",
         "showlegend": false,
         "text": [
          "36.0"
         ],
         "textposition": "outside",
         "type": "bar",
         "x": [
          "Critical Prompt"
         ],
         "xaxis": "x2",
         "y": [
          36
         ],
         "yaxis": "y2"
        },
        {
         "line": {
          "color": "#0173B2",
          "dash": "dash",
          "width": 4
         },
         "mode": "lines",
         "name": "CoT Baseline @ Trial 0",
         "showlegend": true,
         "type": "scatter",
         "x": [
          null
         ],
         "y": [
          null
         ]
        }
       ],
       "layout": {
        "annotations": [
         {
          "font": {
           "size": 16
          },
          "showarrow": false,
          "text": "<b>GPT-4o corrected by Gemini 1.5 Flash</b>",
          "x": 0.24375,
          "xanchor": "center",
          "xref": "paper",
          "y": 1,
          "yanchor": "bottom",
          "yref": "paper"
         },
         {
          "font": {
           "size": 16
          },
          "showarrow": false,
          "text": "<b>Gemini-1.5 Flash corrected by GPT-4o</b>",
          "x": 0.75625,
          "xanchor": "center",
          "xref": "paper",
          "y": 1,
          "yanchor": "bottom",
          "yref": "paper"
         },
         {
          "align": "left",
          "font": {
           "color": "#0173B2",
           "size": 12
          },
          "showarrow": false,
          "text": "<b>60.5%</b>",
          "x": 0.5,
          "xref": "x",
          "y": 60.5,
          "yref": "y",
          "yshift": 10
         },
         {
          "align": "left",
          "font": {
           "color": "#0173B2",
           "size": 12
          },
          "showarrow": false,
          "text": "<b>26.5%</b>",
          "x": 0.5,
          "xref": "x2",
          "y": 26.5,
          "yref": "y2",
          "yshift": 10
         },
         {
          "align": "left",
          "font": {
           "color": "black",
           "size": 12
          },
          "showarrow": false,
          "text": "<b>*</b>: Maximum number of trials",
          "x": -0.118,
          "xanchor": "left",
          "xref": "paper",
          "xshift": 10,
          "y": -0.25,
          "yanchor": "top",
          "yref": "paper",
          "yshift": 0
         }
        ],
        "font": {
         "family": "Arial",
         "size": 12
        },
        "height": 450,
        "legend": {
         "font": {
          "family": "Arial",
          "size": 12
         },
         "orientation": "h",
         "title": {
          "text": "Method"
         },
         "x": 0.5,
         "xanchor": "center",
         "y": 1.12,
         "yanchor": "bottom"
        },
        "margin": {
         "b": 80,
         "t": 130
        },
        "shapes": [
         {
          "line": {
           "color": "#0173B2",
           "dash": "dash",
           "width": 4
          },
          "opacity": 0.8,
          "type": "line",
          "x0": -0.5,
          "x1": 0.6,
          "xref": "x",
          "y0": 60.5,
          "y1": 60.5,
          "yref": "y"
         },
         {
          "line": {
           "color": "#0173B2",
           "dash": "dash",
           "width": 4
          },
          "opacity": 0.8,
          "type": "line",
          "x0": -0.5,
          "x1": 0.6,
          "xref": "x2",
          "y0": 26.5,
          "y1": 26.5,
          "yref": "y2"
         }
        ],
        "showlegend": true,
        "template": {
         "data": {
          "bar": [
           {
            "error_x": {
             "color": "#2a3f5f"
            },
            "error_y": {
             "color": "#2a3f5f"
            },
            "marker": {
             "line": {
              "color": "white",
              "width": 0.5
             },
             "pattern": {
              "fillmode": "overlay",
              "size": 10,
              "solidity": 0.2
             }
            },
            "type": "bar"
           }
          ],
          "barpolar": [
           {
            "marker": {
             "line": {
              "color": "white",
              "width": 0.5
             },
             "pattern": {
              "fillmode": "overlay",
              "size": 10,
              "solidity": 0.2
             }
            },
            "type": "barpolar"
           }
          ],
          "carpet": [
           {
            "aaxis": {
             "endlinecolor": "#2a3f5f",
             "gridcolor": "#C8D4E3",
             "linecolor": "#C8D4E3",
             "minorgridcolor": "#C8D4E3",
             "startlinecolor": "#2a3f5f"
            },
            "baxis": {
             "endlinecolor": "#2a3f5f",
             "gridcolor": "#C8D4E3",
             "linecolor": "#C8D4E3",
             "minorgridcolor": "#C8D4E3",
             "startlinecolor": "#2a3f5f"
            },
            "type": "carpet"
           }
          ],
          "choropleth": [
           {
            "colorbar": {
             "outlinewidth": 0,
             "ticks": ""
            },
            "type": "choropleth"
           }
          ],
          "contour": [
           {
            "colorbar": {
             "outlinewidth": 0,
             "ticks": ""
            },
            "colorscale": [
             [
              0,
              "#0d0887"
             ],
             [
              0.1111111111111111,
              "#46039f"
             ],
             [
              0.2222222222222222,
              "#7201a8"
             ],
             [
              0.3333333333333333,
              "#9c179e"
             ],
             [
              0.4444444444444444,
              "#bd3786"
             ],
             [
              0.5555555555555556,
              "#d8576b"
             ],
             [
              0.6666666666666666,
              "#ed7953"
             ],
             [
              0.7777777777777778,
              "#fb9f3a"
             ],
             [
              0.8888888888888888,
              "#fdca26"
             ],
             [
              1,
              "#f0f921"
             ]
            ],
            "type": "contour"
           }
          ],
          "contourcarpet": [
           {
            "colorbar": {
             "outlinewidth": 0,
             "ticks": ""
            },
            "type": "contourcarpet"
           }
          ],
          "heatmap": [
           {
            "colorbar": {
             "outlinewidth": 0,
             "ticks": ""
            },
            "colorscale": [
             [
              0,
              "#0d0887"
             ],
             [
              0.1111111111111111,
              "#46039f"
             ],
             [
              0.2222222222222222,
              "#7201a8"
             ],
             [
              0.3333333333333333,
              "#9c179e"
             ],
             [
              0.4444444444444444,
              "#bd3786"
             ],
             [
              0.5555555555555556,
              "#d8576b"
             ],
             [
              0.6666666666666666,
              "#ed7953"
             ],
             [
              0.7777777777777778,
              "#fb9f3a"
             ],
             [
              0.8888888888888888,
              "#fdca26"
             ],
             [
              1,
              "#f0f921"
             ]
            ],
            "type": "heatmap"
           }
          ],
          "heatmapgl": [
           {
            "colorbar": {
             "outlinewidth": 0,
             "ticks": ""
            },
            "colorscale": [
             [
              0,
              "#0d0887"
             ],
             [
              0.1111111111111111,
              "#46039f"
             ],
             [
              0.2222222222222222,
              "#7201a8"
             ],
             [
              0.3333333333333333,
              "#9c179e"
             ],
             [
              0.4444444444444444,
              "#bd3786"
             ],
             [
              0.5555555555555556,
              "#d8576b"
             ],
             [
              0.6666666666666666,
              "#ed7953"
             ],
             [
              0.7777777777777778,
              "#fb9f3a"
             ],
             [
              0.8888888888888888,
              "#fdca26"
             ],
             [
              1,
              "#f0f921"
             ]
            ],
            "type": "heatmapgl"
           }
          ],
          "histogram": [
           {
            "marker": {
             "pattern": {
              "fillmode": "overlay",
              "size": 10,
              "solidity": 0.2
             }
            },
            "type": "histogram"
           }
          ],
          "histogram2d": [
           {
            "colorbar": {
             "outlinewidth": 0,
             "ticks": ""
            },
            "colorscale": [
             [
              0,
              "#0d0887"
             ],
             [
              0.1111111111111111,
              "#46039f"
             ],
             [
              0.2222222222222222,
              "#7201a8"
             ],
             [
              0.3333333333333333,
              "#9c179e"
             ],
             [
              0.4444444444444444,
              "#bd3786"
             ],
             [
              0.5555555555555556,
              "#d8576b"
             ],
             [
              0.6666666666666666,
              "#ed7953"
             ],
             [
              0.7777777777777778,
              "#fb9f3a"
             ],
             [
              0.8888888888888888,
              "#fdca26"
             ],
             [
              1,
              "#f0f921"
             ]
            ],
            "type": "histogram2d"
           }
          ],
          "histogram2dcontour": [
           {
            "colorbar": {
             "outlinewidth": 0,
             "ticks": ""
            },
            "colorscale": [
             [
              0,
              "#0d0887"
             ],
             [
              0.1111111111111111,
              "#46039f"
             ],
             [
              0.2222222222222222,
              "#7201a8"
             ],
             [
              0.3333333333333333,
              "#9c179e"
             ],
             [
              0.4444444444444444,
              "#bd3786"
             ],
             [
              0.5555555555555556,
              "#d8576b"
             ],
             [
              0.6666666666666666,
              "#ed7953"
             ],
             [
              0.7777777777777778,
              "#fb9f3a"
             ],
             [
              0.8888888888888888,
              "#fdca26"
             ],
             [
              1,
              "#f0f921"
             ]
            ],
            "type": "histogram2dcontour"
           }
          ],
          "mesh3d": [
           {
            "colorbar": {
             "outlinewidth": 0,
             "ticks": ""
            },
            "type": "mesh3d"
           }
          ],
          "parcoords": [
           {
            "line": {
             "colorbar": {
              "outlinewidth": 0,
              "ticks": ""
             }
            },
            "type": "parcoords"
           }
          ],
          "pie": [
           {
            "automargin": true,
            "type": "pie"
           }
          ],
          "scatter": [
           {
            "fillpattern": {
             "fillmode": "overlay",
             "size": 10,
             "solidity": 0.2
            },
            "type": "scatter"
           }
          ],
          "scatter3d": [
           {
            "line": {
             "colorbar": {
              "outlinewidth": 0,
              "ticks": ""
             }
            },
            "marker": {
             "colorbar": {
              "outlinewidth": 0,
              "ticks": ""
             }
            },
            "type": "scatter3d"
           }
          ],
          "scattercarpet": [
           {
            "marker": {
             "colorbar": {
              "outlinewidth": 0,
              "ticks": ""
             }
            },
            "type": "scattercarpet"
           }
          ],
          "scattergeo": [
           {
            "marker": {
             "colorbar": {
              "outlinewidth": 0,
              "ticks": ""
             }
            },
            "type": "scattergeo"
           }
          ],
          "scattergl": [
           {
            "marker": {
             "colorbar": {
              "outlinewidth": 0,
              "ticks": ""
             }
            },
            "type": "scattergl"
           }
          ],
          "scattermapbox": [
           {
            "marker": {
             "colorbar": {
              "outlinewidth": 0,
              "ticks": ""
             }
            },
            "type": "scattermapbox"
           }
          ],
          "scatterpolar": [
           {
            "marker": {
             "colorbar": {
              "outlinewidth": 0,
              "ticks": ""
             }
            },
            "type": "scatterpolar"
           }
          ],
          "scatterpolargl": [
           {
            "marker": {
             "colorbar": {
              "outlinewidth": 0,
              "ticks": ""
             }
            },
            "type": "scatterpolargl"
           }
          ],
          "scatterternary": [
           {
            "marker": {
             "colorbar": {
              "outlinewidth": 0,
              "ticks": ""
             }
            },
            "type": "scatterternary"
           }
          ],
          "surface": [
           {
            "colorbar": {
             "outlinewidth": 0,
             "ticks": ""
            },
            "colorscale": [
             [
              0,
              "#0d0887"
             ],
             [
              0.1111111111111111,
              "#46039f"
             ],
             [
              0.2222222222222222,
              "#7201a8"
             ],
             [
              0.3333333333333333,
              "#9c179e"
             ],
             [
              0.4444444444444444,
              "#bd3786"
             ],
             [
              0.5555555555555556,
              "#d8576b"
             ],
             [
              0.6666666666666666,
              "#ed7953"
             ],
             [
              0.7777777777777778,
              "#fb9f3a"
             ],
             [
              0.8888888888888888,
              "#fdca26"
             ],
             [
              1,
              "#f0f921"
             ]
            ],
            "type": "surface"
           }
          ],
          "table": [
           {
            "cells": {
             "fill": {
              "color": "#EBF0F8"
             },
             "line": {
              "color": "white"
             }
            },
            "header": {
             "fill": {
              "color": "#C8D4E3"
             },
             "line": {
              "color": "white"
             }
            },
            "type": "table"
           }
          ]
         },
         "layout": {
          "annotationdefaults": {
           "arrowcolor": "#2a3f5f",
           "arrowhead": 0,
           "arrowwidth": 1
          },
          "autotypenumbers": "strict",
          "coloraxis": {
           "colorbar": {
            "outlinewidth": 0,
            "ticks": ""
           }
          },
          "colorscale": {
           "diverging": [
            [
             0,
             "#8e0152"
            ],
            [
             0.1,
             "#c51b7d"
            ],
            [
             0.2,
             "#de77ae"
            ],
            [
             0.3,
             "#f1b6da"
            ],
            [
             0.4,
             "#fde0ef"
            ],
            [
             0.5,
             "#f7f7f7"
            ],
            [
             0.6,
             "#e6f5d0"
            ],
            [
             0.7,
             "#b8e186"
            ],
            [
             0.8,
             "#7fbc41"
            ],
            [
             0.9,
             "#4d9221"
            ],
            [
             1,
             "#276419"
            ]
           ],
           "sequential": [
            [
             0,
             "#0d0887"
            ],
            [
             0.1111111111111111,
             "#46039f"
            ],
            [
             0.2222222222222222,
             "#7201a8"
            ],
            [
             0.3333333333333333,
             "#9c179e"
            ],
            [
             0.4444444444444444,
             "#bd3786"
            ],
            [
             0.5555555555555556,
             "#d8576b"
            ],
            [
             0.6666666666666666,
             "#ed7953"
            ],
            [
             0.7777777777777778,
             "#fb9f3a"
            ],
            [
             0.8888888888888888,
             "#fdca26"
            ],
            [
             1,
             "#f0f921"
            ]
           ],
           "sequentialminus": [
            [
             0,
             "#0d0887"
            ],
            [
             0.1111111111111111,
             "#46039f"
            ],
            [
             0.2222222222222222,
             "#7201a8"
            ],
            [
             0.3333333333333333,
             "#9c179e"
            ],
            [
             0.4444444444444444,
             "#bd3786"
            ],
            [
             0.5555555555555556,
             "#d8576b"
            ],
            [
             0.6666666666666666,
             "#ed7953"
            ],
            [
             0.7777777777777778,
             "#fb9f3a"
            ],
            [
             0.8888888888888888,
             "#fdca26"
            ],
            [
             1,
             "#f0f921"
            ]
           ]
          },
          "colorway": [
           "#636efa",
           "#EF553B",
           "#00cc96",
           "#ab63fa",
           "#FFA15A",
           "#19d3f3",
           "#FF6692",
           "#B6E880",
           "#FF97FF",
           "#FECB52"
          ],
          "font": {
           "color": "#2a3f5f"
          },
          "geo": {
           "bgcolor": "white",
           "lakecolor": "white",
           "landcolor": "white",
           "showlakes": true,
           "showland": true,
           "subunitcolor": "#C8D4E3"
          },
          "hoverlabel": {
           "align": "left"
          },
          "hovermode": "closest",
          "mapbox": {
           "style": "light"
          },
          "paper_bgcolor": "white",
          "plot_bgcolor": "white",
          "polar": {
           "angularaxis": {
            "gridcolor": "#EBF0F8",
            "linecolor": "#EBF0F8",
            "ticks": ""
           },
           "bgcolor": "white",
           "radialaxis": {
            "gridcolor": "#EBF0F8",
            "linecolor": "#EBF0F8",
            "ticks": ""
           }
          },
          "scene": {
           "xaxis": {
            "backgroundcolor": "white",
            "gridcolor": "#DFE8F3",
            "gridwidth": 2,
            "linecolor": "#EBF0F8",
            "showbackground": true,
            "ticks": "",
            "zerolinecolor": "#EBF0F8"
           },
           "yaxis": {
            "backgroundcolor": "white",
            "gridcolor": "#DFE8F3",
            "gridwidth": 2,
            "linecolor": "#EBF0F8",
            "showbackground": true,
            "ticks": "",
            "zerolinecolor": "#EBF0F8"
           },
           "zaxis": {
            "backgroundcolor": "white",
            "gridcolor": "#DFE8F3",
            "gridwidth": 2,
            "linecolor": "#EBF0F8",
            "showbackground": true,
            "ticks": "",
            "zerolinecolor": "#EBF0F8"
           }
          },
          "shapedefaults": {
           "line": {
            "color": "#2a3f5f"
           }
          },
          "ternary": {
           "aaxis": {
            "gridcolor": "#DFE8F3",
            "linecolor": "#A2B1C6",
            "ticks": ""
           },
           "baxis": {
            "gridcolor": "#DFE8F3",
            "linecolor": "#A2B1C6",
            "ticks": ""
           },
           "bgcolor": "white",
           "caxis": {
            "gridcolor": "#DFE8F3",
            "linecolor": "#A2B1C6",
            "ticks": ""
           }
          },
          "title": {
           "x": 0.05
          },
          "xaxis": {
           "automargin": true,
           "gridcolor": "#EBF0F8",
           "linecolor": "#EBF0F8",
           "ticks": "",
           "title": {
            "standoff": 15
           },
           "zerolinecolor": "#EBF0F8",
           "zerolinewidth": 2
          },
          "yaxis": {
           "automargin": true,
           "gridcolor": "#EBF0F8",
           "linecolor": "#EBF0F8",
           "ticks": "",
           "title": {
            "standoff": 15
           },
           "zerolinecolor": "#EBF0F8",
           "zerolinewidth": 2
          }
         }
        },
        "title": {
         "text": "<b>Accuracy - Meeting Planning (Zero-Shot Reflective Prompting)</b>",
         "x": 0.5,
         "xanchor": "center",
         "y": 0.97,
         "yanchor": "top"
        },
        "width": 850,
        "xaxis": {
         "anchor": "y",
         "categoryarray": [
          "Critical Prompt"
         ],
         "categoryorder": "array",
         "domain": [
          0,
          0.4875
         ],
         "linecolor": "black",
         "mirror": "all",
         "showgrid": false,
         "showline": true,
         "tickfont": {
          "color": "black"
         },
         "title": {
          "font": {
           "family": "Arial"
          },
          "standoff": 20,
          "text": "Reflective Prompt"
         },
         "zeroline": false
        },
        "xaxis2": {
         "anchor": "y2",
         "categoryarray": [
          "Critical Prompt"
         ],
         "categoryorder": "array",
         "domain": [
          0.5125,
          1
         ],
         "linecolor": "black",
         "mirror": "all",
         "showgrid": false,
         "showline": true,
         "tickfont": {
          "color": "black"
         },
         "title": {
          "font": {
           "family": "Arial"
          },
          "standoff": 20,
          "text": "Reflective Prompt"
         },
         "zeroline": false
        },
        "yaxis": {
         "anchor": "x",
         "domain": [
          0,
          1
         ],
         "gridcolor": "lightgrey",
         "gridwidth": 1,
         "linecolor": "black",
         "mirror": "all",
         "range": [
          0,
          100
         ],
         "showgrid": true,
         "showline": true,
         "tickfont": {
          "color": "black"
         },
         "tickvals": [
          0,
          20,
          40,
          60,
          80,
          100
         ],
         "title": {
          "font": {
           "family": "Arial"
          },
          "text": "Accuracy (%)"
         },
         "zeroline": false
        },
        "yaxis2": {
         "anchor": "x2",
         "domain": [
          0,
          1
         ],
         "gridcolor": "lightgrey",
         "gridwidth": 1,
         "linecolor": "black",
         "matches": "y",
         "mirror": "all",
         "range": [
          0,
          100
         ],
         "showline": true,
         "showticklabels": false,
         "tickfont": {
          "color": "black"
         },
         "tickvals": [
          0,
          20,
          40,
          60,
          80,
          100
         ],
         "zeroline": false
        }
       }
      }
     },
     "metadata": {},
     "output_type": "display_data"
    }
   ],
   "source": [
    "import plotly.graph_objects as go\n",
    "from plotly.subplots import make_subplots\n",
    "import numpy as np\n",
    "\n",
    "# Ensure mapping dictionaries are defined correctly\n",
    "prompt_example_mapping = {\n",
    "    'gpt-4o_corrected_by_gemini-1.5-flash': 'Critical Prompt',\n",
    "    'gemini-1.5-flash_corrected_by_gpt-4o': 'Critical Prompt'\n",
    "}\n",
    "\n",
    "# Customize x-axis category order with new labels\n",
    "desired_prompt_order = [\n",
    "    'Critical Prompt'\n",
    "]\n",
    "\n",
    "# Define pattern styles for each category\n",
    "pattern_for_category = {\n",
    "    'Basic Inter-Model Correction + CoT @ Trial 1': '/',\n",
    "    'Basic Inter-Model Correction + CoT @ Trial 2': 'x',\n",
    "    'Oracle Inter-Model Correction + CoT @ Trial 1*': '/',\n",
    "    'Oracle Inter-Model Correction + CoT @ Trial 2*': 'x'\n",
    "}\n",
    "\n",
    "\n",
    "method_colors = {\n",
    "    \"Basic Inter-Model Correction + CoT @ Trial 1\": colors[3],\n",
    "    \"Basic Inter-Model Correction + CoT @ Trial 2\": colors[3],\n",
    "    \"Oracle Inter-Model Correction + CoT @ Trial 1*\": colors[4],\n",
    "    \"Oracle Inter-Model Correction + CoT @ Trial 2*\": colors[4]\n",
    "}\n",
    "\n",
    "# Initialize the figure with 3 subplots (one for each model)\n",
    "fig = make_subplots(\n",
    "    rows=1, cols=2,\n",
    "    subplot_titles=[\n",
    "        '<b>GPT-4o corrected by Gemini 1.5 Flash</b>',\n",
    "        '<b>Gemini-1.5 Flash corrected by GPT-4o</b>'\n",
    "    ],\n",
    "    shared_yaxes=True,\n",
    "    horizontal_spacing=0.025\n",
    ")\n",
    "\n",
    "# List of models and corresponding data\n",
    "models_data = [\n",
    "    ('GPT-4o corrected by Gemini 1.5 Flash', gpt4o_gemini_other_accuracy_pivot, gpt4o_gemini_cot1_pivot),\n",
    "    ('Gemini 1.5 Flash corrected by GPT-4o', gemini_gpt4o_other_accuracy_pivot, gemini_gpt4o_cot1_pivot)\n",
    "]\n",
    "\n",
    "# Track the methods we've already added to the legend to avoid duplicates\n",
    "methods_in_legend = set()\n",
    "\n",
    "# Loop over models to add subplots for each\n",
    "for i, (model_name, model_data, cot1_pivot) in enumerate(models_data):\n",
    "    col = i + 1  # Row for the subplot\n",
    "\n",
    "    # Add a bar for each method for the current model\n",
    "    for method in desired_order:\n",
    "        method_data = model_data[model_data['method'] == method].copy()\n",
    "        if method_data.empty:\n",
    "            continue  # Skip if there's no data for the method\n",
    "        # Map the prompt examples to new labels\n",
    "        method_data['intermodel_scheme'] = method_data['intermodel_scheme'].map(prompt_example_mapping)\n",
    "        # Multiply accuracy by 100\n",
    "        method_data['accuracy_percent'] = method_data['accuracy'] * 100\n",
    "        pattern = pattern_for_category.get(method)\n",
    "        \n",
    "        # Show legend only for the first occurrence of each method\n",
    "        showlegend = method not in methods_in_legend\n",
    "        if showlegend:\n",
    "            methods_in_legend.add(method)\n",
    "        \n",
    "        # Add the bar for this method in the current subplot\n",
    "        fig.add_trace(go.Bar(\n",
    "            x=method_data['intermodel_scheme'],\n",
    "            y=method_data['accuracy_percent'],\n",
    "            name=method_name_mapping.get(method, method),\n",
    "            text=[f\"{acc:.1f}\" for acc in method_data['accuracy_percent']],  # Remove % symbol\n",
    "            textposition='outside',\n",
    "            marker=dict(\n",
    "                color=method_colors.get(method, '#000000'), \n",
    "                pattern=dict(shape=pattern)\n",
    "            ),\n",
    "            showlegend=showlegend,\n",
    "            \n",
    "        ), row=1, col=col)\n",
    "    # Calculate the average accuracy for 'cot_1' and convert to percentage\n",
    "    cot1_accuracy = cot1_pivot['accuracy'].iloc[0]  # Assuming only one row for 'cot_1'\n",
    "    cot1_accuracy_percent = cot1_accuracy * 100\n",
    "\n",
    "    # Add a horizontal line for 'cot_1' accuracy\n",
    "    fig.add_shape(\n",
    "        type=\"line\",\n",
    "        xref=f'x{col}' if col > 1 else 'x',  # Different xref for rows > 1\n",
    "        yref=f'y{col}',\n",
    "        x0=-0.5,  # Start just before the first bar\n",
    "        y0=cot1_accuracy_percent,\n",
    "        x1=len(desired_prompt_order) - 0.4,  # End just after the last bar\n",
    "        y1=cot1_accuracy_percent,\n",
    "        # Compute colors[0] opacity 80% to match the bars\n",
    "        line=dict(color=colors[0], width=4, dash=\"dash\"),\n",
    "        opacity=0.8,\n",
    "        col=col, row=1\n",
    "    )\n",
    "\n",
    "    # Add annotation for 'cot_1' accuracy\n",
    "    fig.add_annotation(\n",
    "        x=0.5,  # Relative position along the x-axis in paper coordinates\n",
    "        y=cot1_accuracy_percent,\n",
    "        xref=\"paper\",\n",
    "        yref=f\"y{col}\",\n",
    "        text=f\"<b>{cot1_accuracy_percent:.1f}%</b>\",  # Include % symbol in annotation\n",
    "        showarrow=False,\n",
    "        font=dict(color=colors[0], size=12),\n",
    "        align=\"left\",\n",
    "        yshift=10,\n",
    "        col=col, row=1\n",
    "    )\n",
    "\n",
    "\n",
    "fig.add_trace(go.Scatter(\n",
    "    x=[None],  # No data points\n",
    "    y=[None],\n",
    "    mode='lines',\n",
    "    line=dict(color=colors[0], width=4, dash='dash'),  # Match the horizontal line's style\n",
    "    name='CoT Baseline @ Trial 0',  # Legend entry name\n",
    "    showlegend=True,\n",
    "))\n",
    "\n",
    "\n",
    "# Add annotation explaining the asterisk (*) symbol\n",
    "fig.add_annotation(\n",
    "    x=-0.118,  # Position at the very left of the plot\n",
    "    y=-0.25,  # Position slightly below the plot area; adjust as needed\n",
    "    xref='paper',  # Reference the entire plotting area horizontally\n",
    "    yref='paper',  # Reference the entire plotting area vertically\n",
    "    text=\"<b>*</b>: Maximum number of trials\",  # Explanation text\n",
    "    showarrow=False,  # No arrow pointing to anything\n",
    "    font=dict(color=\"black\", size=12),  # Font styling\n",
    "    align=\"left\",  # Left-align the text\n",
    "    xanchor='left',  # Anchor the text to the left\n",
    "    yanchor='top',   # Anchor the text to the top\n",
    "    xshift=10,        # Horizontal shift to move the text slightly right\n",
    "    yshift=0          # No vertical shift since it's already below the plot\n",
    ")\n",
    "\n",
    "# Update layout for grouped bars with modified axes and grid lines\n",
    "fig.update_layout(\n",
    "    title={\n",
    "        'text': '<b>Accuracy - Meeting Planning (Zero-Shot Reflective Prompting)</b>',\n",
    "        'y': 0.97,\n",
    "        'x': 0.5,\n",
    "        'xanchor': 'center',\n",
    "        'yanchor': 'top',\n",
    "    },\n",
    "    template='plotly_white',\n",
    "    font=dict(family=\"Arial\", size=12),\n",
    "    width=850,\n",
    "    height=450,  # Adjusted for more space\n",
    "    margin=dict(t=120, b=0),\n",
    "    showlegend=True,  # Ensure the legend shows up at the right spot\n",
    "    legend_title_text='Method',\n",
    "    legend=dict(\n",
    "        yanchor=\"bottom\",\n",
    "        y=1.12,\n",
    "        xanchor=\"center\",\n",
    "        x=0.5,\n",
    "        orientation=\"h\",\n",
    "        font=dict(family=\"Arial\", size=12),\n",
    "    )\n",
    ")\n",
    "\n",
    "# Update the x-axis and y-axis titles\n",
    "fig.update_xaxes(\n",
    "    title_text='Reflective Prompt',\n",
    "    title_font=dict(family=\"Arial\"),\n",
    "    showgrid=True,\n",
    "    zeroline=False,\n",
    "    linecolor='black',\n",
    "    title_standoff=20 \n",
    ")\n",
    "\n",
    "xaxis_props = dict(\n",
    "    categoryorder='array',\n",
    "    categoryarray=desired_prompt_order,\n",
    "    linecolor='black',             # Set x-axis line color to black\n",
    "    showline=True,                 # Show x-axis line\n",
    "    tickfont=dict(color='black'),  # Set x-axis tick labels to black\n",
    "    showgrid=False,                # Remove vertical grid lines\n",
    "    zeroline=False,                # Remove zero line if not needed\n",
    "    mirror='all'                   # Mirror x-axis lines on all sides (adds top line)\n",
    ")\n",
    "\n",
    "yaxis_props = dict(\n",
    "    tickformat=None,               # Show numbers without the percent symbol\n",
    "    linecolor='black',             # Set y-axis line color to black\n",
    "    showline=True,                 # Show y-axis line\n",
    "    tickfont=dict(color='black'),  # Set y-axis tick labels to black\n",
    "    gridcolor='lightgrey',         # Set grid line color to light grey\n",
    "    gridwidth=1,                   # Increase grid line width for intensity\n",
    "    zeroline=False,                # Remove zero line if not needed\n",
    "    mirror='all',                  # Mirror y-axis lines on all sides (adds right line)\n",
    "    range=[0, 100],                # Show 0 to 100\n",
    "    tickvals=np.arange(0, 101, 20) # Tick values every 20\n",
    ")\n",
    "\n",
    "# Apply x-axis and y-axis settings to all subplots\n",
    "for col in range(1, 3):  # Loop over 3 rows\n",
    "    fig.update_xaxes(xaxis_props, col=col, row=1)  # Apply x-axis settings\n",
    "    fig.update_yaxes(yaxis_props, col=col, row=1)  # Apply y-axis settings\n",
    "\n",
    "# Update the y-axis for every subplot\n",
    "fig.update_yaxes(\n",
    "    title_text='Accuracy (%)',\n",
    "    title_font=dict(family=\"Arial\"),\n",
    "    showgrid=True,\n",
    "    zeroline=False,\n",
    "    linecolor='black',\n",
    "    row=1,\n",
    "    col=1\n",
    ")\n",
    "\n",
    "fig.update_layout(\n",
    "    margin=dict(b=80, t=130)\n",
    ")\n",
    "# Show the figure\n",
    "fig.show()\n",
    "\n",
    "# Save the figure as a PDF\n",
    "# Ensure you have the 'kaleido' package installed: pip install kaleido\n",
    "fig.write_image(\"accuracy_by_method_intermodel_scheme_3_models.pdf\")\n"
   ]
  },
  {
   "cell_type": "code",
   "execution_count": null,
   "metadata": {},
   "outputs": [],
   "source": []
  }
 ],
 "metadata": {
  "kernelspec": {
   "display_name": ".venv",
   "language": "python",
   "name": "python3"
  },
  "language_info": {
   "codemirror_mode": {
    "name": "ipython",
    "version": 3
   },
   "file_extension": ".py",
   "mimetype": "text/x-python",
   "name": "python",
   "nbconvert_exporter": "python",
   "pygments_lexer": "ipython3",
   "version": "3.11.5"
  }
 },
 "nbformat": 4,
 "nbformat_minor": 2
}
