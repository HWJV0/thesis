{
 "cells": [
  {
   "cell_type": "code",
   "execution_count": 13,
   "metadata": {},
   "outputs": [],
   "source": [
    "import pandas as pd\n",
    "import numpy as np\n",
    "import plotly.graph_objects as go\n",
    "from plotly.subplots import make_subplots\n",
    "import plotly.colors as plt_colors\n",
    "import math\n",
    "\n",
    "\n",
    "colors=[\"#0173B2\", \"#DE8F05\", \"#029E73\", \"#D55E00\", \"#CC78BC\", \"#CA9161\", \"#FBAFE4\", \"#949494\", \"#ECE133\", \"#56B4E9\"]"
   ]
  },
  {
   "cell_type": "code",
   "execution_count": 14,
   "metadata": {},
   "outputs": [],
   "source": [
    "# Read dfframe\n",
    "negative_prompt_negative_examples_stats_df = pd.read_csv(\"negative_prompt_negative_examples_stats.csv\")\n",
    "negative_prompt_mixed_examples_stats_df = pd.read_csv(\"negative_prompt_mixed_examples_stats.csv\")\n",
    "critical_prompt_negative_examples_stats_df = pd.read_csv(\"critical_prompt_negative_examples_stats.csv\")\n",
    "critical_prompt_mixed_examples_stats_df = pd.read_csv(\"critical_prompt_mixed_examples_stats.csv\")\n",
    "\n",
    "total_df = pd.concat([negative_prompt_negative_examples_stats_df, negative_prompt_mixed_examples_stats_df, critical_prompt_negative_examples_stats_df, critical_prompt_mixed_examples_stats_df])\n",
    "\n",
    "def filter_and_rename(df, method, correct_state, incorrect_state):\n",
    "    temp = df[(df['method'] == method) & (df['result_type'].isin([correct_state, incorrect_state]))].copy()\n",
    "    temp.loc[:, 'result_type'] = temp['result_type'].map({correct_state: 'correct', incorrect_state: 'incorrect'})\n",
    "    return temp\n",
    "\n",
    "filtered_total_df_list = [\n",
    "    total_df[total_df['method'] == 'cot_1'],\n",
    "    filter_and_rename(total_df, 'selfreflection_cot_2', 'correct_state_2', 'incorrect_state_2'),\n",
    "    filter_and_rename(total_df, 'reflexion_cot_2', 'correct_state_2', 'incorrect_state_2'),\n",
    "    filter_and_rename(total_df, 'selfreflection_cot_3', 'correct_state_3', 'incorrect_state_3'),\n",
    "    filter_and_rename(total_df, 'reflexion_cot_3', 'correct_state_3', 'incorrect_state_3')\n",
    "]\n",
    "\n",
    "filtered_total_df = pd.concat(filtered_total_df_list, ignore_index=True)\n"
   ]
  },
  {
   "cell_type": "code",
   "execution_count": 15,
   "metadata": {},
   "outputs": [],
   "source": [
    "new_total_df = total_df.groupby(['prompt_examples', 'method', 'result_type']).agg({'value': 'sum'}).reset_index()\n",
    "\n",
    "# Filter \"result_type\" to only include \"correct_state_1\", \"correct_state_2\", \"correct_state_3\", \"incorrect_state_1\" and \"incorrect_state_2\" and \"incorrect_state_3\"\n",
    "new_total_df = new_total_df[new_total_df['result_type'].isin(['correct_state_1', 'correct_state_2', 'correct_state_3', 'incorrect_state_1', 'incorrect_state_2', 'incorrect_state_3'])]"
   ]
  },
  {
   "cell_type": "code",
   "execution_count": 16,
   "metadata": {},
   "outputs": [],
   "source": [
    "# # Define a color palette for methods\n",
    "# color_palette = [\n",
    "#     \"rgba(31, 119, 180, 0.8)\",   # Blue for selfreflection_cot_2\n",
    "#     \"rgba(255, 127, 14, 0.8)\",   # Orange for reflexion_cot_2\n",
    "#     \"rgba(44, 160, 44, 0.8)\",    # Green for selfreflection_cot_3\n",
    "#     \"rgba(214, 39, 40, 0.8)\",    # Red for reflexion_cot_3\n",
    "#     \"rgba(148, 103, 189, 0.8)\",  # Purple for additional methods if any\n",
    "#     \"rgba(140, 86, 75, 0.8)\",    # Brown\n",
    "#     \"rgba(227, 119, 194, 0.8)\",  # Pink\n",
    "#     \"rgba(127, 127, 127, 0.8)\",  # Gray\n",
    "#     \"rgba(188, 189, 34, 0.8)\",   # Olive\n",
    "#     \"rgba(23, 190, 207, 0.8)\"     # Cyan\n",
    "# ]\n",
    "\n",
    "\n",
    "# import pandas as pd\n",
    "# import plotly.graph_objects as go\n",
    "# from plotly.subplots import make_subplots\n",
    "# import math\n",
    "\n",
    "# def create_sankey_for_prompt_method(df, prompt, method):\n",
    "#     \"\"\"\n",
    "#     Creates a Sankey diagram for a specific prompt_examples category and method.\n",
    "\n",
    "#     Parameters:\n",
    "#     - df: pandas DataFrame containing the data.\n",
    "#     - prompt: The specific prompt_examples category to visualize.\n",
    "#     - method: The specific method to visualize.\n",
    "\n",
    "#     Returns:\n",
    "#     - plotly.graph_objects.Figure object representing the Sankey diagram.\n",
    "#     \"\"\"\n",
    "#     # Filter the dataframe for the specific prompt and method\n",
    "#     if pd.isna(prompt):\n",
    "#         prompt_df = df[(df['prompt_examples'].isna()) & (df['method'] == method)]\n",
    "#         prompt_label = 'NaN'\n",
    "#     else:\n",
    "#         prompt_df = df[(df['prompt_examples'] == prompt) & (df['method'] == method)]\n",
    "#         prompt_label = prompt\n",
    "\n",
    "#     # Initialize nodes\n",
    "#     nodes = []\n",
    "\n",
    "#     # Determine the number of states based on the method\n",
    "#     if method.endswith('_3'):\n",
    "#         max_state = 3\n",
    "#     elif method.endswith('_2'):\n",
    "#         max_state = 2\n",
    "#     else:\n",
    "#         max_state = 1\n",
    "\n",
    "#     # Add state nodes\n",
    "#     for state in range(1, max_state + 1):\n",
    "#         nodes.append(f'State {state} Correct')\n",
    "#         nodes.append(f'State {state} Incorrect')\n",
    "\n",
    "#     # Create a mapping from node to index\n",
    "#     node_indices = {node: idx for idx, node in enumerate(nodes)}\n",
    "\n",
    "#     # Initialize link lists\n",
    "#     source = []\n",
    "#     target = []\n",
    "#     value = []\n",
    "#     link_colors = []\n",
    "\n",
    "#     # Define colors\n",
    "#     color_correct = \"rgba(34, 139, 34, 0.8)\"      # Forest Green\n",
    "#     color_incorrect = \"rgba(220, 20, 60, 0.8)\"   # Crimson\n",
    "\n",
    "#     if max_state >= 2:\n",
    "#         correct_s1 = prompt_df[prompt_df['result_type'] == 'correct_state_1']['value'].sum()\n",
    "#         incorrect_s1 = prompt_df[prompt_df['result_type'] == 'incorrect_state_1']['value'].sum()\n",
    "#         correct_s2 = prompt_df[prompt_df['result_type'] == 'correct_state_2']['value'].sum()\n",
    "#         incorrect_s2 = prompt_df[prompt_df['result_type'] == 'incorrect_state_2']['value'].sum()\n",
    "\n",
    "#         # State 1 Correct -> State 2 Correct\n",
    "#         source.append(node_indices['State 1 Correct'])\n",
    "#         target.append(node_indices['State 2 Correct'])\n",
    "#         value.append(correct_s2)\n",
    "#         link_colors.append(color_correct)\n",
    "\n",
    "#         # State 1 Correct -> State 2 Incorrect\n",
    "#         source.append(node_indices['State 1 Correct'])\n",
    "#         target.append(node_indices['State 2 Incorrect'])\n",
    "#         value.append(correct_s1 - correct_s2)\n",
    "#         link_colors.append(color_incorrect)\n",
    "\n",
    "#         # State 1 Incorrect -> State 2 Correct\n",
    "#         source.append(node_indices['State 1 Incorrect'])\n",
    "#         target.append(node_indices['State 2 Correct'])\n",
    "#         value.append(correct_s2 - correct_s1)\n",
    "#         link_colors.append(color_correct)\n",
    "\n",
    "#         # State 1 Incorrect -> State 2 Incorrect\n",
    "#         source.append(node_indices['State 1 Incorrect'])\n",
    "#         target.append(node_indices['State 2 Incorrect'])\n",
    "#         value.append(incorrect_s2)\n",
    "#         link_colors.append(color_incorrect)\n",
    "\n",
    "#     if max_state == 3:\n",
    "#         correct_s3 = prompt_df[prompt_df['result_type'] == 'correct_state_3']['value'].sum()\n",
    "#         incorrect_s3 = prompt_df[prompt_df['result_type'] == 'incorrect_state_3']['value'].sum()\n",
    "\n",
    "#         # State 2 Correct -> State 3 Correct\n",
    "#         source.append(node_indices['State 2 Correct'])\n",
    "#         target.append(node_indices['State 3 Correct'])\n",
    "#         value.append(correct_s3)\n",
    "#         link_colors.append(color_correct)\n",
    "\n",
    "#         # State 2 Correct -> State 3 Incorrect\n",
    "#         source.append(node_indices['State 2 Correct'])\n",
    "#         target.append(node_indices['State 3 Incorrect'])\n",
    "#         value.append(correct_s2 - correct_s3)\n",
    "#         link_colors.append(color_incorrect)\n",
    "\n",
    "#         # State 2 Incorrect -> State 3 Correct\n",
    "#         source.append(node_indices['State 2 Incorrect'])\n",
    "#         target.append(node_indices['State 3 Correct'])\n",
    "#         value.append(correct_s3 - correct_s2)\n",
    "#         link_colors.append(color_correct)\n",
    "\n",
    "#         # State 2 Incorrect -> State 3 Incorrect\n",
    "#         source.append(node_indices['State 2 Incorrect'])\n",
    "#         target.append(node_indices['State 3 Incorrect'])\n",
    "#         value.append(incorrect_s3)\n",
    "#         link_colors.append(color_incorrect)\n",
    "\n",
    "#     # Create the Sankey diagram\n",
    "#     sankey = go.Sankey(\n",
    "#         node=dict(\n",
    "#             pad=15,\n",
    "#             thickness=20,\n",
    "#             line=dict(color=\"black\", width=0.5),\n",
    "#             label=nodes,\n",
    "#             color=\"lightblue\"\n",
    "#         ),\n",
    "#         link=dict(\n",
    "#             source=source,\n",
    "#             target=target,\n",
    "#             value=value,\n",
    "#             color=link_colors,\n",
    "#             hovertemplate='Value: %{value}<br>From: %{source.label}<br>To: %{target.label}<extra></extra>'\n",
    "#         )\n",
    "#     )\n",
    "\n",
    "#     # Create the figure\n",
    "#     fig = go.Figure(data=[sankey])\n",
    "#     fig.update_layout(\n",
    "#         title_text=f\"Sankey Diagram for Prompt: {prompt_label}, Method: {method}\",\n",
    "#         font_size=10\n",
    "#     )\n",
    "\n",
    "#     return fig\n",
    "\n",
    "# # Identify unique prompt_examples and method combinations\n",
    "# prompt_method_combinations = new_total_df.groupby(['prompt_examples', 'method']).size().reset_index()[['prompt_examples', 'method']]\n",
    "# num_combinations = len(prompt_method_combinations)\n",
    "\n",
    "# # Define the number of columns for the subplot grid\n",
    "# cols = 2  # Adjust based on preference\n",
    "# rows = math.ceil(num_combinations / cols)\n",
    "\n",
    "# # Create subplots\n",
    "# fig = make_subplots(\n",
    "#     rows=rows, \n",
    "#     cols=cols, \n",
    "#     specs=[[{'type': 'sankey'} for _ in range(cols)] for _ in range(rows)],\n",
    "#     subplot_titles=[f\"{str(row.prompt_examples) if pd.notna(row.prompt_examples) else 'NaN'} - {row.method}\" \n",
    "#                     for _, row in prompt_method_combinations.iterrows()]\n",
    "# )\n",
    "\n",
    "# # Iterate and add Sankey diagrams to subplots\n",
    "# for i, (_, row) in enumerate(prompt_method_combinations.iterrows()):\n",
    "#     row_idx = (i // cols) + 1\n",
    "#     col_idx = (i % cols) + 1\n",
    "#     sankey_fig = create_sankey_for_prompt_method(new_total_df, row.prompt_examples, row.method)\n",
    "#     sankey = sankey_fig['data'][0]\n",
    "#     fig.add_trace(sankey, row=row_idx, col=col_idx)\n",
    "\n",
    "# # Update layout\n",
    "# fig.update_layout(\n",
    "#     title_text=\"Sankey Diagrams for Each Prompt-Method Combination\",\n",
    "#     font_size=10,\n",
    "#     height=600 * rows  # Adjust height based on number of rows\n",
    "# )\n",
    "\n",
    "# fig.show()\n"
   ]
  },
  {
   "cell_type": "code",
   "execution_count": 17,
   "metadata": {},
   "outputs": [],
   "source": [
    "# Define which result_types are considered correct and incorrect\n",
    "correct_types = ['correct', 'correct_state_1', 'correct_state_2', 'correct_state_3']\n",
    "incorrect_types = ['incorrect', 'incorrect_state_1', 'incorrect_state_2', 'incorrect_state_3']\n",
    "\n",
    "# Categorize each result_type\n",
    "def categorize_result(result_type):\n",
    "    if result_type in correct_types:\n",
    "        return 'correct'\n",
    "    elif result_type in incorrect_types:\n",
    "        return 'incorrect'\n",
    "    else:\n",
    "        return 'other'\n",
    "\n",
    "filtered_total_df['result_category'] = filtered_total_df['result_type'].apply(categorize_result)\n",
    "\n",
    "# Filter out any 'other' categories if present\n",
    "filtered_total_df = filtered_total_df[filtered_total_df['result_category'].isin(['correct', 'incorrect'])]\n",
    "\n",
    "# Separate 'cot_1' data\n",
    "cot1_df = filtered_total_df[filtered_total_df['method'] == 'cot_1']\n",
    "other_methods_df = filtered_total_df[filtered_total_df['method'] != 'cot_1']\n",
    "\n",
    "# Pivot the tables to get correct and incorrect counts per method and prompt_example\n",
    "cot1_pivot = cot1_df.pivot_table(\n",
    "    index='method',\n",
    "    columns='result_category',\n",
    "    values='value',\n",
    "    aggfunc='sum',\n",
    "    fill_value=0\n",
    ").reset_index()\n",
    "\n",
    "other_accuracy_pivot = other_methods_df.pivot_table(\n",
    "    index=['prompt_examples', 'method'],\n",
    "    columns='result_category',\n",
    "    values='value',\n",
    "    aggfunc='sum',\n",
    "    fill_value=0\n",
    ").reset_index()\n",
    "\n",
    "# Calculate accuracy for 'cot_1'\n",
    "cot1_pivot['accuracy'] = cot1_pivot['correct'] / (cot1_pivot['correct'] + cot1_pivot['incorrect'])\n",
    "cot1_pivot['accuracy'] = cot1_pivot['accuracy'].fillna(0)\n",
    "\n",
    "# Calculate accuracy for other methods\n",
    "other_accuracy_pivot['accuracy'] = other_accuracy_pivot['correct'] / (other_accuracy_pivot['correct'] + other_accuracy_pivot['incorrect'])\n",
    "other_accuracy_pivot['accuracy'] = other_accuracy_pivot['accuracy'].fillna(0)"
   ]
  },
  {
   "cell_type": "code",
   "execution_count": 18,
   "metadata": {},
   "outputs": [],
   "source": [
    "# desired_order = ['selfreflection_cot_2', 'selfreflection_cot_3', 'reflexion_cot_2', 'reflexion_cot_3']\n",
    "desired_order = ['Self-Correction + CoT<br>2 trials', 'Self-Correction + CoT<br>3 trials', 'Reflexion + CoT<br>Max. 2 trials', 'Reflexion + CoT<br>Max. 3 trials']\n",
    "\n",
    "method_name_mapping = {\n",
    "    'selfreflection_cot_2': 'Self-Correction + CoT<br>2 trials',\n",
    "    'selfreflection_cot_3': 'Self-Correction + CoT<br>3 trials',\n",
    "    'reflexion_cot_2': 'Reflexion + CoT<br>Max. 2 trials',\n",
    "    'reflexion_cot_3': 'Reflexion + CoT<br>Max. 3 trials',\n",
    "}\n",
    "\n",
    "other_accuracy_pivot['method'] = other_accuracy_pivot['method'].map(method_name_mapping)\n",
    "\n",
    "# Ensure 'method' is a categorical variable with the desired order\n",
    "other_accuracy_pivot['method'] = pd.Categorical(other_accuracy_pivot['method'], categories=desired_order, ordered=True)\n",
    "\n",
    "# Sort the DataFrame based on the categorical order\n",
    "other_accuracy_pivot = other_accuracy_pivot.sort_values('method')\n",
    "\n",
    "# Map each method to a color\n",
    "method_colors = {method: colors[i+1 % len(colors)] for i, method in enumerate(desired_order)}"
   ]
  },
  {
   "cell_type": "code",
   "execution_count": 21,
   "metadata": {},
   "outputs": [
    {
     "data": {
      "application/vnd.plotly.v1+json": {
       "config": {
        "plotlyServerURL": "https://plot.ly"
       },
       "data": [
        {
         "marker": {
          "color": "#DE8F05"
         },
         "name": "Self-Correction + CoT<br>2 trials",
         "text": [
          "15.0",
          "14.5",
          "14.5",
          "12.5"
         ],
         "textposition": "outside",
         "type": "bar",
         "x": [
          "Critical Prompt<br>Mixed Examples",
          "Critical Prompt<br>Negative Examples",
          "Negative Prompt<br>Mixed Examples",
          "Negative Prompt<br>Negative Examples"
         ],
         "y": [
          15,
          14.499999999999998,
          14.499999999999998,
          12.5
         ]
        },
        {
         "marker": {
          "color": "#029E73"
         },
         "name": "Self-Correction + CoT<br>3 trials",
         "text": [
          "13.0",
          "15.5",
          "10.5",
          "12.0"
         ],
         "textposition": "outside",
         "type": "bar",
         "x": [
          "Critical Prompt<br>Mixed Examples",
          "Critical Prompt<br>Negative Examples",
          "Negative Prompt<br>Mixed Examples",
          "Negative Prompt<br>Negative Examples"
         ],
         "y": [
          13,
          15.5,
          10.5,
          12
         ]
        },
        {
         "marker": {
          "color": "#D55E00"
         },
         "name": "Reflexion + CoT<br>Max. 2 trials",
         "text": [
          "21.0",
          "20.5",
          "21.5",
          "23.0"
         ],
         "textposition": "outside",
         "type": "bar",
         "x": [
          "Critical Prompt<br>Mixed Examples",
          "Critical Prompt<br>Negative Examples",
          "Negative Prompt<br>Mixed Examples",
          "Negative Prompt<br>Negative Examples"
         ],
         "y": [
          21,
          20.5,
          21.5,
          23
         ]
        },
        {
         "marker": {
          "color": "#CC78BC"
         },
         "name": "Reflexion + CoT<br>Max. 3 trials",
         "text": [
          "26.5",
          "25.0",
          "22.5",
          "25.5"
         ],
         "textposition": "outside",
         "type": "bar",
         "x": [
          "Critical Prompt<br>Mixed Examples",
          "Critical Prompt<br>Negative Examples",
          "Negative Prompt<br>Mixed Examples",
          "Negative Prompt<br>Negative Examples"
         ],
         "y": [
          26.5,
          25,
          22.5,
          25.5
         ]
        }
       ],
       "layout": {
        "annotations": [
         {
          "align": "left",
          "font": {
           "color": "black",
           "size": 12
          },
          "showarrow": false,
          "text": "<b>CoT, 1 Trial: 14.0%</b>",
          "x": 0.54,
          "xref": "paper",
          "y": 14.000000000000002,
          "yref": "y",
          "yshift": -10
         }
        ],
        "barmode": "group",
        "font": {
         "family": "Arial, sans-serif",
         "size": 12
        },
        "height": 600,
        "legend": {
         "orientation": "h",
         "title": {
          "text": "Method"
         },
         "x": 0.5,
         "xanchor": "center",
         "y": 1.02,
         "yanchor": "bottom"
        },
        "shapes": [
         {
          "line": {
           "color": "#0173B2",
           "dash": "dash",
           "width": 4
          },
          "type": "line",
          "x0": -0.5,
          "x1": 3.5,
          "xref": "x",
          "y0": 14.000000000000002,
          "y1": 14.000000000000002,
          "yref": "y"
         }
        ],
        "template": {
         "data": {
          "bar": [
           {
            "error_x": {
             "color": "#2a3f5f"
            },
            "error_y": {
             "color": "#2a3f5f"
            },
            "marker": {
             "line": {
              "color": "white",
              "width": 0.5
             },
             "pattern": {
              "fillmode": "overlay",
              "size": 10,
              "solidity": 0.2
             }
            },
            "type": "bar"
           }
          ],
          "barpolar": [
           {
            "marker": {
             "line": {
              "color": "white",
              "width": 0.5
             },
             "pattern": {
              "fillmode": "overlay",
              "size": 10,
              "solidity": 0.2
             }
            },
            "type": "barpolar"
           }
          ],
          "carpet": [
           {
            "aaxis": {
             "endlinecolor": "#2a3f5f",
             "gridcolor": "#C8D4E3",
             "linecolor": "#C8D4E3",
             "minorgridcolor": "#C8D4E3",
             "startlinecolor": "#2a3f5f"
            },
            "baxis": {
             "endlinecolor": "#2a3f5f",
             "gridcolor": "#C8D4E3",
             "linecolor": "#C8D4E3",
             "minorgridcolor": "#C8D4E3",
             "startlinecolor": "#2a3f5f"
            },
            "type": "carpet"
           }
          ],
          "choropleth": [
           {
            "colorbar": {
             "outlinewidth": 0,
             "ticks": ""
            },
            "type": "choropleth"
           }
          ],
          "contour": [
           {
            "colorbar": {
             "outlinewidth": 0,
             "ticks": ""
            },
            "colorscale": [
             [
              0,
              "#0d0887"
             ],
             [
              0.1111111111111111,
              "#46039f"
             ],
             [
              0.2222222222222222,
              "#7201a8"
             ],
             [
              0.3333333333333333,
              "#9c179e"
             ],
             [
              0.4444444444444444,
              "#bd3786"
             ],
             [
              0.5555555555555556,
              "#d8576b"
             ],
             [
              0.6666666666666666,
              "#ed7953"
             ],
             [
              0.7777777777777778,
              "#fb9f3a"
             ],
             [
              0.8888888888888888,
              "#fdca26"
             ],
             [
              1,
              "#f0f921"
             ]
            ],
            "type": "contour"
           }
          ],
          "contourcarpet": [
           {
            "colorbar": {
             "outlinewidth": 0,
             "ticks": ""
            },
            "type": "contourcarpet"
           }
          ],
          "heatmap": [
           {
            "colorbar": {
             "outlinewidth": 0,
             "ticks": ""
            },
            "colorscale": [
             [
              0,
              "#0d0887"
             ],
             [
              0.1111111111111111,
              "#46039f"
             ],
             [
              0.2222222222222222,
              "#7201a8"
             ],
             [
              0.3333333333333333,
              "#9c179e"
             ],
             [
              0.4444444444444444,
              "#bd3786"
             ],
             [
              0.5555555555555556,
              "#d8576b"
             ],
             [
              0.6666666666666666,
              "#ed7953"
             ],
             [
              0.7777777777777778,
              "#fb9f3a"
             ],
             [
              0.8888888888888888,
              "#fdca26"
             ],
             [
              1,
              "#f0f921"
             ]
            ],
            "type": "heatmap"
           }
          ],
          "heatmapgl": [
           {
            "colorbar": {
             "outlinewidth": 0,
             "ticks": ""
            },
            "colorscale": [
             [
              0,
              "#0d0887"
             ],
             [
              0.1111111111111111,
              "#46039f"
             ],
             [
              0.2222222222222222,
              "#7201a8"
             ],
             [
              0.3333333333333333,
              "#9c179e"
             ],
             [
              0.4444444444444444,
              "#bd3786"
             ],
             [
              0.5555555555555556,
              "#d8576b"
             ],
             [
              0.6666666666666666,
              "#ed7953"
             ],
             [
              0.7777777777777778,
              "#fb9f3a"
             ],
             [
              0.8888888888888888,
              "#fdca26"
             ],
             [
              1,
              "#f0f921"
             ]
            ],
            "type": "heatmapgl"
           }
          ],
          "histogram": [
           {
            "marker": {
             "pattern": {
              "fillmode": "overlay",
              "size": 10,
              "solidity": 0.2
             }
            },
            "type": "histogram"
           }
          ],
          "histogram2d": [
           {
            "colorbar": {
             "outlinewidth": 0,
             "ticks": ""
            },
            "colorscale": [
             [
              0,
              "#0d0887"
             ],
             [
              0.1111111111111111,
              "#46039f"
             ],
             [
              0.2222222222222222,
              "#7201a8"
             ],
             [
              0.3333333333333333,
              "#9c179e"
             ],
             [
              0.4444444444444444,
              "#bd3786"
             ],
             [
              0.5555555555555556,
              "#d8576b"
             ],
             [
              0.6666666666666666,
              "#ed7953"
             ],
             [
              0.7777777777777778,
              "#fb9f3a"
             ],
             [
              0.8888888888888888,
              "#fdca26"
             ],
             [
              1,
              "#f0f921"
             ]
            ],
            "type": "histogram2d"
           }
          ],
          "histogram2dcontour": [
           {
            "colorbar": {
             "outlinewidth": 0,
             "ticks": ""
            },
            "colorscale": [
             [
              0,
              "#0d0887"
             ],
             [
              0.1111111111111111,
              "#46039f"
             ],
             [
              0.2222222222222222,
              "#7201a8"
             ],
             [
              0.3333333333333333,
              "#9c179e"
             ],
             [
              0.4444444444444444,
              "#bd3786"
             ],
             [
              0.5555555555555556,
              "#d8576b"
             ],
             [
              0.6666666666666666,
              "#ed7953"
             ],
             [
              0.7777777777777778,
              "#fb9f3a"
             ],
             [
              0.8888888888888888,
              "#fdca26"
             ],
             [
              1,
              "#f0f921"
             ]
            ],
            "type": "histogram2dcontour"
           }
          ],
          "mesh3d": [
           {
            "colorbar": {
             "outlinewidth": 0,
             "ticks": ""
            },
            "type": "mesh3d"
           }
          ],
          "parcoords": [
           {
            "line": {
             "colorbar": {
              "outlinewidth": 0,
              "ticks": ""
             }
            },
            "type": "parcoords"
           }
          ],
          "pie": [
           {
            "automargin": true,
            "type": "pie"
           }
          ],
          "scatter": [
           {
            "fillpattern": {
             "fillmode": "overlay",
             "size": 10,
             "solidity": 0.2
            },
            "type": "scatter"
           }
          ],
          "scatter3d": [
           {
            "line": {
             "colorbar": {
              "outlinewidth": 0,
              "ticks": ""
             }
            },
            "marker": {
             "colorbar": {
              "outlinewidth": 0,
              "ticks": ""
             }
            },
            "type": "scatter3d"
           }
          ],
          "scattercarpet": [
           {
            "marker": {
             "colorbar": {
              "outlinewidth": 0,
              "ticks": ""
             }
            },
            "type": "scattercarpet"
           }
          ],
          "scattergeo": [
           {
            "marker": {
             "colorbar": {
              "outlinewidth": 0,
              "ticks": ""
             }
            },
            "type": "scattergeo"
           }
          ],
          "scattergl": [
           {
            "marker": {
             "colorbar": {
              "outlinewidth": 0,
              "ticks": ""
             }
            },
            "type": "scattergl"
           }
          ],
          "scattermapbox": [
           {
            "marker": {
             "colorbar": {
              "outlinewidth": 0,
              "ticks": ""
             }
            },
            "type": "scattermapbox"
           }
          ],
          "scatterpolar": [
           {
            "marker": {
             "colorbar": {
              "outlinewidth": 0,
              "ticks": ""
             }
            },
            "type": "scatterpolar"
           }
          ],
          "scatterpolargl": [
           {
            "marker": {
             "colorbar": {
              "outlinewidth": 0,
              "ticks": ""
             }
            },
            "type": "scatterpolargl"
           }
          ],
          "scatterternary": [
           {
            "marker": {
             "colorbar": {
              "outlinewidth": 0,
              "ticks": ""
             }
            },
            "type": "scatterternary"
           }
          ],
          "surface": [
           {
            "colorbar": {
             "outlinewidth": 0,
             "ticks": ""
            },
            "colorscale": [
             [
              0,
              "#0d0887"
             ],
             [
              0.1111111111111111,
              "#46039f"
             ],
             [
              0.2222222222222222,
              "#7201a8"
             ],
             [
              0.3333333333333333,
              "#9c179e"
             ],
             [
              0.4444444444444444,
              "#bd3786"
             ],
             [
              0.5555555555555556,
              "#d8576b"
             ],
             [
              0.6666666666666666,
              "#ed7953"
             ],
             [
              0.7777777777777778,
              "#fb9f3a"
             ],
             [
              0.8888888888888888,
              "#fdca26"
             ],
             [
              1,
              "#f0f921"
             ]
            ],
            "type": "surface"
           }
          ],
          "table": [
           {
            "cells": {
             "fill": {
              "color": "#EBF0F8"
             },
             "line": {
              "color": "white"
             }
            },
            "header": {
             "fill": {
              "color": "#C8D4E3"
             },
             "line": {
              "color": "white"
             }
            },
            "type": "table"
           }
          ]
         },
         "layout": {
          "annotationdefaults": {
           "arrowcolor": "#2a3f5f",
           "arrowhead": 0,
           "arrowwidth": 1
          },
          "autotypenumbers": "strict",
          "coloraxis": {
           "colorbar": {
            "outlinewidth": 0,
            "ticks": ""
           }
          },
          "colorscale": {
           "diverging": [
            [
             0,
             "#8e0152"
            ],
            [
             0.1,
             "#c51b7d"
            ],
            [
             0.2,
             "#de77ae"
            ],
            [
             0.3,
             "#f1b6da"
            ],
            [
             0.4,
             "#fde0ef"
            ],
            [
             0.5,
             "#f7f7f7"
            ],
            [
             0.6,
             "#e6f5d0"
            ],
            [
             0.7,
             "#b8e186"
            ],
            [
             0.8,
             "#7fbc41"
            ],
            [
             0.9,
             "#4d9221"
            ],
            [
             1,
             "#276419"
            ]
           ],
           "sequential": [
            [
             0,
             "#0d0887"
            ],
            [
             0.1111111111111111,
             "#46039f"
            ],
            [
             0.2222222222222222,
             "#7201a8"
            ],
            [
             0.3333333333333333,
             "#9c179e"
            ],
            [
             0.4444444444444444,
             "#bd3786"
            ],
            [
             0.5555555555555556,
             "#d8576b"
            ],
            [
             0.6666666666666666,
             "#ed7953"
            ],
            [
             0.7777777777777778,
             "#fb9f3a"
            ],
            [
             0.8888888888888888,
             "#fdca26"
            ],
            [
             1,
             "#f0f921"
            ]
           ],
           "sequentialminus": [
            [
             0,
             "#0d0887"
            ],
            [
             0.1111111111111111,
             "#46039f"
            ],
            [
             0.2222222222222222,
             "#7201a8"
            ],
            [
             0.3333333333333333,
             "#9c179e"
            ],
            [
             0.4444444444444444,
             "#bd3786"
            ],
            [
             0.5555555555555556,
             "#d8576b"
            ],
            [
             0.6666666666666666,
             "#ed7953"
            ],
            [
             0.7777777777777778,
             "#fb9f3a"
            ],
            [
             0.8888888888888888,
             "#fdca26"
            ],
            [
             1,
             "#f0f921"
            ]
           ]
          },
          "colorway": [
           "#636efa",
           "#EF553B",
           "#00cc96",
           "#ab63fa",
           "#FFA15A",
           "#19d3f3",
           "#FF6692",
           "#B6E880",
           "#FF97FF",
           "#FECB52"
          ],
          "font": {
           "color": "#2a3f5f"
          },
          "geo": {
           "bgcolor": "white",
           "lakecolor": "white",
           "landcolor": "white",
           "showlakes": true,
           "showland": true,
           "subunitcolor": "#C8D4E3"
          },
          "hoverlabel": {
           "align": "left"
          },
          "hovermode": "closest",
          "mapbox": {
           "style": "light"
          },
          "paper_bgcolor": "white",
          "plot_bgcolor": "white",
          "polar": {
           "angularaxis": {
            "gridcolor": "#EBF0F8",
            "linecolor": "#EBF0F8",
            "ticks": ""
           },
           "bgcolor": "white",
           "radialaxis": {
            "gridcolor": "#EBF0F8",
            "linecolor": "#EBF0F8",
            "ticks": ""
           }
          },
          "scene": {
           "xaxis": {
            "backgroundcolor": "white",
            "gridcolor": "#DFE8F3",
            "gridwidth": 2,
            "linecolor": "#EBF0F8",
            "showbackground": true,
            "ticks": "",
            "zerolinecolor": "#EBF0F8"
           },
           "yaxis": {
            "backgroundcolor": "white",
            "gridcolor": "#DFE8F3",
            "gridwidth": 2,
            "linecolor": "#EBF0F8",
            "showbackground": true,
            "ticks": "",
            "zerolinecolor": "#EBF0F8"
           },
           "zaxis": {
            "backgroundcolor": "white",
            "gridcolor": "#DFE8F3",
            "gridwidth": 2,
            "linecolor": "#EBF0F8",
            "showbackground": true,
            "ticks": "",
            "zerolinecolor": "#EBF0F8"
           }
          },
          "shapedefaults": {
           "line": {
            "color": "#2a3f5f"
           }
          },
          "ternary": {
           "aaxis": {
            "gridcolor": "#DFE8F3",
            "linecolor": "#A2B1C6",
            "ticks": ""
           },
           "baxis": {
            "gridcolor": "#DFE8F3",
            "linecolor": "#A2B1C6",
            "ticks": ""
           },
           "bgcolor": "white",
           "caxis": {
            "gridcolor": "#DFE8F3",
            "linecolor": "#A2B1C6",
            "ticks": ""
           }
          },
          "title": {
           "x": 0.05
          },
          "xaxis": {
           "automargin": true,
           "gridcolor": "#EBF0F8",
           "linecolor": "#EBF0F8",
           "ticks": "",
           "title": {
            "standoff": 15
           },
           "zerolinecolor": "#EBF0F8",
           "zerolinewidth": 2
          },
          "yaxis": {
           "automargin": true,
           "gridcolor": "#EBF0F8",
           "linecolor": "#EBF0F8",
           "ticks": "",
           "title": {
            "standoff": 15
           },
           "zerolinecolor": "#EBF0F8",
           "zerolinewidth": 2
          }
         }
        },
        "title": {
         "text": "<b>Accuracy - Trip Planning (Gemini 1.5 Flash, Few-Shot Reflective Prompting)</b>",
         "x": 0.5,
         "xanchor": "center",
         "y": 0.95,
         "yanchor": "top"
        },
        "width": 1000,
        "xaxis": {
         "categoryarray": [
          "Negative Prompt<br>Negative Examples",
          "Negative Prompt<br>Mixed Examples",
          "Critical Prompt<br>Negative Examples",
          "Critical Prompt<br>Mixed Examples"
         ],
         "categoryorder": "array",
         "linecolor": "black",
         "mirror": "all",
         "showgrid": false,
         "showline": true,
         "tickfont": {
          "color": "black"
         },
         "title": {
          "text": "Reflective Prompt and Few-Shot Reflective Examples"
         },
         "zeroline": false
        },
        "yaxis": {
         "gridcolor": "lightgrey",
         "gridwidth": 1,
         "linecolor": "black",
         "mirror": "all",
         "range": [
          0,
          40
         ],
         "showline": true,
         "tickfont": {
          "color": "black"
         },
         "tickvals": [
          0,
          5,
          10,
          15,
          20,
          25,
          30,
          35,
          40
         ],
         "title": {
          "text": "Accuracy (%)"
         },
         "zeroline": false
        }
       }
      }
     },
     "metadata": {},
     "output_type": "display_data"
    }
   ],
   "source": [
    "# Ensure mapping dictionaries are defined correctly\n",
    "prompt_example_mapping = {\n",
    "    'negative_prompt_negative_examples': 'Negative Prompt<br>Negative Examples',\n",
    "    'negative_prompt_mixed_examples': 'Negative Prompt<br>Mixed Examples',\n",
    "    'critical_prompt_negative_examples': 'Critical Prompt<br>Negative Examples',\n",
    "    'critical_prompt_mixed_examples': 'Critical Prompt<br>Mixed Examples',\n",
    "    # Add other prompt examples if necessary\n",
    "}\n",
    "\n",
    "# Optional: Customize x-axis category order with new labels\n",
    "desired_prompt_order = [\n",
    "    'Negative Prompt<br>Negative Examples',\n",
    "    'Negative Prompt<br>Mixed Examples',\n",
    "    'Critical Prompt<br>Negative Examples',\n",
    "    'Critical Prompt<br>Mixed Examples'\n",
    "]\n",
    "\n",
    "# Initialize the figure\n",
    "fig = go.Figure()\n",
    "\n",
    "# Multiply accuracy by 100 to convert to percentage scale\n",
    "# Assuming 'other_accuracy_pivot' is your DataFrame with accuracy data\n",
    "\n",
    "# Add a bar for each method\n",
    "for method in desired_order:\n",
    "    method_data = other_accuracy_pivot[other_accuracy_pivot['method'] == method].copy()\n",
    "    # Map the prompt examples to new labels\n",
    "    method_data['prompt_examples'] = method_data['prompt_examples'].map(prompt_example_mapping)\n",
    "    # Multiply accuracy by 100\n",
    "    method_data['accuracy_percent'] = method_data['accuracy'] * 100\n",
    "    fig.add_trace(go.Bar(\n",
    "        x=method_data['prompt_examples'],\n",
    "        y=method_data['accuracy_percent'],\n",
    "        name=method_name_mapping.get(method, method),\n",
    "        text=[f\"{acc:.1f}\" for acc in method_data['accuracy_percent']],  # Remove % symbol\n",
    "        textposition='outside',\n",
    "        marker_color=method_colors.get(method, '#000000'),\n",
    "    ))\n",
    "\n",
    "# Calculate the average accuracy for 'cot_1' and convert to percentage\n",
    "cot1_accuracy = cot1_pivot['accuracy'].iloc[0]  # Assuming only one row for 'cot_1'\n",
    "cot1_accuracy_percent = cot1_accuracy * 100\n",
    "\n",
    "# Add a horizontal line for 'cot_1' accuracy\n",
    "fig.add_shape(\n",
    "    type=\"line\",\n",
    "    xref='x',\n",
    "    yref='y',\n",
    "    x0=-0.5,  # Start just before the first bar\n",
    "    y0=cot1_accuracy_percent,\n",
    "    x1=len(desired_prompt_order) - 0.5,  # End just after the last bar\n",
    "    y1=cot1_accuracy_percent,\n",
    "    line=dict(color=colors[0], width=4, dash=\"dash\"),\n",
    ")\n",
    "\n",
    "# Add annotation for 'cot_1' accuracy\n",
    "fig.add_annotation(\n",
    "    x=0.54,  # Relative position along the x-axis in paper coordinates\n",
    "    y=cot1_accuracy_percent,\n",
    "    xref=\"paper\",\n",
    "    yref=\"y\",\n",
    "    text=f\"<b>CoT, 1 Trial: {cot1_accuracy_percent:.1f}%</b>\",  # Include % symbol in annotation if desired\n",
    "    showarrow=False,\n",
    "    font=dict(color=\"black\", size=12),\n",
    "    align=\"left\",\n",
    "    yshift=-10\n",
    ")\n",
    "\n",
    "# Update layout for grouped bars with modified axes and grid lines\n",
    "fig.update_layout(\n",
    "    barmode='group',\n",
    "    title={\n",
    "        'text': '<b>Accuracy - Trip Planning (Gemini 1.5 Flash, Few-Shot Reflective Prompting)</b>',\n",
    "        'y': 0.95,\n",
    "        'x': 0.5,\n",
    "        'xanchor': 'center',\n",
    "        'yanchor': 'top'\n",
    "    },\n",
    "    xaxis_title='Reflective Prompt and Few-Shot Reflective Examples',\n",
    "    yaxis_title='Accuracy (%)',  # Add (%) to the y-axis title\n",
    "    template='plotly_white',\n",
    "    font=dict(family=\"Arial, sans-serif\", size=12),\n",
    "    width=1000,\n",
    "    height=600,\n",
    "    legend_title_text='Method',\n",
    "    legend=dict(\n",
    "        orientation=\"h\",\n",
    "        yanchor=\"bottom\",\n",
    "        y=1.02,\n",
    "        xanchor=\"center\",\n",
    "        x=0.5\n",
    "    ),\n",
    "    # Modify xaxis and yaxis to set axis lines to black and enhance grid lines\n",
    "    xaxis=dict(\n",
    "        categoryorder='array',\n",
    "        categoryarray=desired_prompt_order,\n",
    "        linecolor='black',             # Set x-axis line color to black\n",
    "        showline=True,                 # Show x-axis line\n",
    "        tickfont=dict(color='black'),  # Set x-axis tick labels to black\n",
    "        showgrid=False,                # Remove vertical grid lines\n",
    "        zeroline=False,                # Remove zero line if not needed\n",
    "        mirror='all'                   # Mirror x-axis lines on all sides (adds top line)\n",
    "    ),\n",
    "    yaxis=dict(\n",
    "        tickformat=None,               # Show numbers without the percent symbol\n",
    "        linecolor='black',             # Set y-axis line color to black\n",
    "        showline=True,                 # Show y-axis line\n",
    "        tickfont=dict(color='black'),  # Set y-axis tick labels to black\n",
    "        gridcolor='lightgrey',         # Set grid line color to light grey\n",
    "        gridwidth=1,                  # Increase grid line width for intensity\n",
    "        zeroline=False,                # Remove zero line if not needed\n",
    "        mirror='all',                   # Mirror y-axis lines on all sides (adds right line)\n",
    "        #show 0 to 100\n",
    "        range=[0, 40],\n",
    "        tickvals=np.arange(0, 41, 5)\n",
    "    )\n",
    ")\n",
    "\n",
    "# Set the x-axis category order to the desired order\n",
    "fig.update_xaxes(categoryorder='array', categoryarray=desired_prompt_order)\n",
    "\n",
    "# Show the figure\n",
    "fig.show()\n",
    "fig.write_image(\"accuracy_by_method_prompt_examples.pdf\")\n"
   ]
  },
  {
   "cell_type": "code",
   "execution_count": 8,
   "metadata": {},
   "outputs": [
    {
     "data": {
      "application/vnd.plotly.v1+json": {
       "config": {
        "plotlyServerURL": "https://plot.ly"
       },
       "data": [
        {
         "colorbar": {
          "orientation": "h",
          "thickness": 20,
          "title": {
           "side": "top",
           "text": "Percentage (%)"
          },
          "x": 0.5,
          "y": 1.1,
          "yanchor": "bottom"
         },
         "colorscale": [
          [
           0,
           "rgb(103,0,31)"
          ],
          [
           0.1,
           "rgb(178,24,43)"
          ],
          [
           0.2,
           "rgb(214,96,77)"
          ],
          [
           0.3,
           "rgb(244,165,130)"
          ],
          [
           0.4,
           "rgb(253,219,199)"
          ],
          [
           0.5,
           "rgb(247,247,247)"
          ],
          [
           0.6,
           "rgb(209,229,240)"
          ],
          [
           0.7,
           "rgb(146,197,222)"
          ],
          [
           0.8,
           "rgb(67,147,195)"
          ],
          [
           0.9,
           "rgb(33,102,172)"
          ],
          [
           1,
           "rgb(5,48,97)"
          ]
         ],
         "hovertemplate": "Method: %{y}<br>Transition: %{x}<br>Percentage: %{z:.1f}%<extra></extra>",
         "showscale": false,
         "text": [
          [
           "88.0%",
           "12.0%",
           "0.0%"
          ],
          [
           "90.5%",
           "9.5%",
           "0.0%"
          ],
          [
           "84.5%",
           "7.0%",
           "8.5%"
          ],
          [
           "85.5%",
           "7.5%",
           "7.0%"
          ]
         ],
         "textfont": {
          "size": 12
         },
         "texttemplate": "%{text}",
         "type": "heatmap",
         "x": [
          "No Change",
          "Incorrect ⇒ Correct",
          "Correct ⇒ Incorrect"
         ],
         "xaxis": "x",
         "y": [
          "Reflexion + CoT<br>Max. 3 trials",
          "Reflexion + CoT<br>Max. 2 trials",
          "Self-Reflection + CoT<br>3 trials",
          "Self-Reflection + CoT<br>2 trials"
         ],
         "yaxis": "y",
         "z": [
          [
           88,
           12,
           0
          ],
          [
           90.5,
           9.5,
           0
          ],
          [
           84.5,
           7.000000000000001,
           8.5
          ],
          [
           85.5,
           7.5,
           7.000000000000001
          ]
         ],
         "zmax": 100,
         "zmin": 0
        },
        {
         "colorbar": {
          "orientation": "h",
          "thickness": 20,
          "title": {
           "side": "top",
           "text": "Percentage (%)"
          },
          "x": 0.5,
          "y": 1.1,
          "yanchor": "bottom"
         },
         "colorscale": [
          [
           0,
           "rgb(103,0,31)"
          ],
          [
           0.1,
           "rgb(178,24,43)"
          ],
          [
           0.2,
           "rgb(214,96,77)"
          ],
          [
           0.3,
           "rgb(244,165,130)"
          ],
          [
           0.4,
           "rgb(253,219,199)"
          ],
          [
           0.5,
           "rgb(247,247,247)"
          ],
          [
           0.6,
           "rgb(209,229,240)"
          ],
          [
           0.7,
           "rgb(146,197,222)"
          ],
          [
           0.8,
           "rgb(67,147,195)"
          ],
          [
           0.9,
           "rgb(33,102,172)"
          ],
          [
           1,
           "rgb(5,48,97)"
          ]
         ],
         "hovertemplate": "Method: %{y}<br>Transition: %{x}<br>Percentage: %{z:.1f}%<extra></extra>",
         "showscale": true,
         "text": [
          [
           "90.5%",
           "9.5%",
           "0.0%"
          ],
          [
           "93.5%",
           "6.5%",
           "0.0%"
          ],
          [
           "84.5%",
           "6.0%",
           "9.5%"
          ],
          [
           "85.0%",
           "8.0%",
           "7.0%"
          ]
         ],
         "textfont": {
          "size": 12
         },
         "texttemplate": "%{text}",
         "type": "heatmap",
         "x": [
          "No Change",
          "Incorrect ⇒ Correct",
          "Correct ⇒ Incorrect"
         ],
         "xaxis": "x2",
         "y": [
          "Reflexion + CoT<br>Max. 3 trials",
          "Reflexion + CoT<br>Max. 2 trials",
          "Self-Reflection + CoT<br>3 trials",
          "Self-Reflection + CoT<br>2 trials"
         ],
         "yaxis": "y2",
         "z": [
          [
           90.5,
           9.5,
           0
          ],
          [
           93.5,
           6.5,
           0
          ],
          [
           84.5,
           6,
           9.5
          ],
          [
           85,
           8,
           7.000000000000001
          ]
         ],
         "zmax": 100,
         "zmin": 0
        },
        {
         "colorbar": {
          "orientation": "h",
          "thickness": 20,
          "title": {
           "side": "top",
           "text": "Percentage (%)"
          },
          "x": 0.5,
          "y": 1.1,
          "yanchor": "bottom"
         },
         "colorscale": [
          [
           0,
           "rgb(103,0,31)"
          ],
          [
           0.1,
           "rgb(178,24,43)"
          ],
          [
           0.2,
           "rgb(214,96,77)"
          ],
          [
           0.3,
           "rgb(244,165,130)"
          ],
          [
           0.4,
           "rgb(253,219,199)"
          ],
          [
           0.5,
           "rgb(247,247,247)"
          ],
          [
           0.6,
           "rgb(209,229,240)"
          ],
          [
           0.7,
           "rgb(146,197,222)"
          ],
          [
           0.8,
           "rgb(67,147,195)"
          ],
          [
           0.9,
           "rgb(33,102,172)"
          ],
          [
           1,
           "rgb(5,48,97)"
          ]
         ],
         "hovertemplate": "Method: %{y}<br>Transition: %{x}<br>Percentage: %{z:.1f}%<extra></extra>",
         "showscale": false,
         "text": [
          [
           "88.0%",
           "12.0%",
           "0.0%"
          ],
          [
           "92.5%",
           "7.5%",
           "0.0%"
          ],
          [
           "82.5%",
           "9.0%",
           "8.5%"
          ],
          [
           "87.5%",
           "7.0%",
           "5.5%"
          ]
         ],
         "textfont": {
          "size": 12
         },
         "texttemplate": "%{text}",
         "type": "heatmap",
         "x": [
          "No Change",
          "Incorrect ⇒ Correct",
          "Correct ⇒ Incorrect"
         ],
         "xaxis": "x3",
         "y": [
          "Reflexion + CoT<br>Max. 3 trials",
          "Reflexion + CoT<br>Max. 2 trials",
          "Self-Reflection + CoT<br>3 trials",
          "Self-Reflection + CoT<br>2 trials"
         ],
         "yaxis": "y3",
         "z": [
          [
           88,
           12,
           0
          ],
          [
           92.5,
           7.5,
           0
          ],
          [
           82.5,
           9,
           8.5
          ],
          [
           87.5,
           7.000000000000001,
           5.5
          ]
         ],
         "zmax": 100,
         "zmin": 0
        },
        {
         "colorbar": {
          "orientation": "h",
          "thickness": 20,
          "title": {
           "side": "top",
           "text": "Percentage (%)"
          },
          "x": 0.5,
          "y": 1.1,
          "yanchor": "bottom"
         },
         "colorscale": [
          [
           0,
           "rgb(103,0,31)"
          ],
          [
           0.1,
           "rgb(178,24,43)"
          ],
          [
           0.2,
           "rgb(214,96,77)"
          ],
          [
           0.3,
           "rgb(244,165,130)"
          ],
          [
           0.4,
           "rgb(253,219,199)"
          ],
          [
           0.5,
           "rgb(247,247,247)"
          ],
          [
           0.6,
           "rgb(209,229,240)"
          ],
          [
           0.7,
           "rgb(146,197,222)"
          ],
          [
           0.8,
           "rgb(67,147,195)"
          ],
          [
           0.9,
           "rgb(33,102,172)"
          ],
          [
           1,
           "rgb(5,48,97)"
          ]
         ],
         "hovertemplate": "Method: %{y}<br>Transition: %{x}<br>Percentage: %{z:.1f}%<extra></extra>",
         "showscale": false,
         "text": [
          [
           "86.0%",
           "14.0%",
           "0.0%"
          ],
          [
           "92.5%",
           "7.5%",
           "0.0%"
          ],
          [
           "87.0%",
           "6.5%",
           "6.5%"
          ],
          [
           "84.0%",
           "8.0%",
           "8.0%"
          ]
         ],
         "textfont": {
          "size": 12
         },
         "texttemplate": "%{text}",
         "type": "heatmap",
         "x": [
          "No Change",
          "Incorrect ⇒ Correct",
          "Correct ⇒ Incorrect"
         ],
         "xaxis": "x4",
         "y": [
          "Reflexion + CoT<br>Max. 3 trials",
          "Reflexion + CoT<br>Max. 2 trials",
          "Self-Reflection + CoT<br>3 trials",
          "Self-Reflection + CoT<br>2 trials"
         ],
         "yaxis": "y4",
         "z": [
          [
           86,
           14.000000000000002,
           0
          ],
          [
           92.5,
           7.5,
           0
          ],
          [
           87,
           6.5,
           6.5
          ],
          [
           84,
           8,
           8
          ]
         ],
         "zmax": 100,
         "zmin": 0
        }
       ],
       "layout": {
        "annotations": [
         {
          "font": {
           "family": "Arial, sans-serif",
           "size": 12
          },
          "showarrow": false,
          "text": "<b>Negative Prompt<br>Negative Examples</b>",
          "x": 0.2425,
          "xanchor": "center",
          "xref": "paper",
          "y": 1,
          "yanchor": "bottom",
          "yref": "paper"
         },
         {
          "font": {
           "family": "Arial, sans-serif",
           "size": 12
          },
          "showarrow": false,
          "text": "<b>Negative Prompt<br>Mixed Examples</b>",
          "x": 0.7575000000000001,
          "xanchor": "center",
          "xref": "paper",
          "y": 1,
          "yanchor": "bottom",
          "yref": "paper"
         },
         {
          "font": {
           "family": "Arial, sans-serif",
           "size": 12
          },
          "showarrow": false,
          "text": "<b>Critical Prompt<br>Negative Examples</b>",
          "x": 0.2425,
          "xanchor": "center",
          "xref": "paper",
          "y": 0.44,
          "yanchor": "bottom",
          "yref": "paper"
         },
         {
          "font": {
           "family": "Arial, sans-serif",
           "size": 12
          },
          "showarrow": false,
          "text": "<b>Critical Prompt<br>Mixed Examples</b>",
          "x": 0.7575000000000001,
          "xanchor": "center",
          "xref": "paper",
          "y": 0.44,
          "yanchor": "bottom",
          "yref": "paper"
         }
        ],
        "font": {
         "family": "Arial, sans-serif",
         "size": 12
        },
        "height": 700,
        "margin": {
         "b": 0,
         "t": 150
        },
        "template": {
         "data": {
          "bar": [
           {
            "error_x": {
             "color": "#2a3f5f"
            },
            "error_y": {
             "color": "#2a3f5f"
            },
            "marker": {
             "line": {
              "color": "white",
              "width": 0.5
             },
             "pattern": {
              "fillmode": "overlay",
              "size": 10,
              "solidity": 0.2
             }
            },
            "type": "bar"
           }
          ],
          "barpolar": [
           {
            "marker": {
             "line": {
              "color": "white",
              "width": 0.5
             },
             "pattern": {
              "fillmode": "overlay",
              "size": 10,
              "solidity": 0.2
             }
            },
            "type": "barpolar"
           }
          ],
          "carpet": [
           {
            "aaxis": {
             "endlinecolor": "#2a3f5f",
             "gridcolor": "#C8D4E3",
             "linecolor": "#C8D4E3",
             "minorgridcolor": "#C8D4E3",
             "startlinecolor": "#2a3f5f"
            },
            "baxis": {
             "endlinecolor": "#2a3f5f",
             "gridcolor": "#C8D4E3",
             "linecolor": "#C8D4E3",
             "minorgridcolor": "#C8D4E3",
             "startlinecolor": "#2a3f5f"
            },
            "type": "carpet"
           }
          ],
          "choropleth": [
           {
            "colorbar": {
             "outlinewidth": 0,
             "ticks": ""
            },
            "type": "choropleth"
           }
          ],
          "contour": [
           {
            "colorbar": {
             "outlinewidth": 0,
             "ticks": ""
            },
            "colorscale": [
             [
              0,
              "#0d0887"
             ],
             [
              0.1111111111111111,
              "#46039f"
             ],
             [
              0.2222222222222222,
              "#7201a8"
             ],
             [
              0.3333333333333333,
              "#9c179e"
             ],
             [
              0.4444444444444444,
              "#bd3786"
             ],
             [
              0.5555555555555556,
              "#d8576b"
             ],
             [
              0.6666666666666666,
              "#ed7953"
             ],
             [
              0.7777777777777778,
              "#fb9f3a"
             ],
             [
              0.8888888888888888,
              "#fdca26"
             ],
             [
              1,
              "#f0f921"
             ]
            ],
            "type": "contour"
           }
          ],
          "contourcarpet": [
           {
            "colorbar": {
             "outlinewidth": 0,
             "ticks": ""
            },
            "type": "contourcarpet"
           }
          ],
          "heatmap": [
           {
            "colorbar": {
             "outlinewidth": 0,
             "ticks": ""
            },
            "colorscale": [
             [
              0,
              "#0d0887"
             ],
             [
              0.1111111111111111,
              "#46039f"
             ],
             [
              0.2222222222222222,
              "#7201a8"
             ],
             [
              0.3333333333333333,
              "#9c179e"
             ],
             [
              0.4444444444444444,
              "#bd3786"
             ],
             [
              0.5555555555555556,
              "#d8576b"
             ],
             [
              0.6666666666666666,
              "#ed7953"
             ],
             [
              0.7777777777777778,
              "#fb9f3a"
             ],
             [
              0.8888888888888888,
              "#fdca26"
             ],
             [
              1,
              "#f0f921"
             ]
            ],
            "type": "heatmap"
           }
          ],
          "heatmapgl": [
           {
            "colorbar": {
             "outlinewidth": 0,
             "ticks": ""
            },
            "colorscale": [
             [
              0,
              "#0d0887"
             ],
             [
              0.1111111111111111,
              "#46039f"
             ],
             [
              0.2222222222222222,
              "#7201a8"
             ],
             [
              0.3333333333333333,
              "#9c179e"
             ],
             [
              0.4444444444444444,
              "#bd3786"
             ],
             [
              0.5555555555555556,
              "#d8576b"
             ],
             [
              0.6666666666666666,
              "#ed7953"
             ],
             [
              0.7777777777777778,
              "#fb9f3a"
             ],
             [
              0.8888888888888888,
              "#fdca26"
             ],
             [
              1,
              "#f0f921"
             ]
            ],
            "type": "heatmapgl"
           }
          ],
          "histogram": [
           {
            "marker": {
             "pattern": {
              "fillmode": "overlay",
              "size": 10,
              "solidity": 0.2
             }
            },
            "type": "histogram"
           }
          ],
          "histogram2d": [
           {
            "colorbar": {
             "outlinewidth": 0,
             "ticks": ""
            },
            "colorscale": [
             [
              0,
              "#0d0887"
             ],
             [
              0.1111111111111111,
              "#46039f"
             ],
             [
              0.2222222222222222,
              "#7201a8"
             ],
             [
              0.3333333333333333,
              "#9c179e"
             ],
             [
              0.4444444444444444,
              "#bd3786"
             ],
             [
              0.5555555555555556,
              "#d8576b"
             ],
             [
              0.6666666666666666,
              "#ed7953"
             ],
             [
              0.7777777777777778,
              "#fb9f3a"
             ],
             [
              0.8888888888888888,
              "#fdca26"
             ],
             [
              1,
              "#f0f921"
             ]
            ],
            "type": "histogram2d"
           }
          ],
          "histogram2dcontour": [
           {
            "colorbar": {
             "outlinewidth": 0,
             "ticks": ""
            },
            "colorscale": [
             [
              0,
              "#0d0887"
             ],
             [
              0.1111111111111111,
              "#46039f"
             ],
             [
              0.2222222222222222,
              "#7201a8"
             ],
             [
              0.3333333333333333,
              "#9c179e"
             ],
             [
              0.4444444444444444,
              "#bd3786"
             ],
             [
              0.5555555555555556,
              "#d8576b"
             ],
             [
              0.6666666666666666,
              "#ed7953"
             ],
             [
              0.7777777777777778,
              "#fb9f3a"
             ],
             [
              0.8888888888888888,
              "#fdca26"
             ],
             [
              1,
              "#f0f921"
             ]
            ],
            "type": "histogram2dcontour"
           }
          ],
          "mesh3d": [
           {
            "colorbar": {
             "outlinewidth": 0,
             "ticks": ""
            },
            "type": "mesh3d"
           }
          ],
          "parcoords": [
           {
            "line": {
             "colorbar": {
              "outlinewidth": 0,
              "ticks": ""
             }
            },
            "type": "parcoords"
           }
          ],
          "pie": [
           {
            "automargin": true,
            "type": "pie"
           }
          ],
          "scatter": [
           {
            "fillpattern": {
             "fillmode": "overlay",
             "size": 10,
             "solidity": 0.2
            },
            "type": "scatter"
           }
          ],
          "scatter3d": [
           {
            "line": {
             "colorbar": {
              "outlinewidth": 0,
              "ticks": ""
             }
            },
            "marker": {
             "colorbar": {
              "outlinewidth": 0,
              "ticks": ""
             }
            },
            "type": "scatter3d"
           }
          ],
          "scattercarpet": [
           {
            "marker": {
             "colorbar": {
              "outlinewidth": 0,
              "ticks": ""
             }
            },
            "type": "scattercarpet"
           }
          ],
          "scattergeo": [
           {
            "marker": {
             "colorbar": {
              "outlinewidth": 0,
              "ticks": ""
             }
            },
            "type": "scattergeo"
           }
          ],
          "scattergl": [
           {
            "marker": {
             "colorbar": {
              "outlinewidth": 0,
              "ticks": ""
             }
            },
            "type": "scattergl"
           }
          ],
          "scattermapbox": [
           {
            "marker": {
             "colorbar": {
              "outlinewidth": 0,
              "ticks": ""
             }
            },
            "type": "scattermapbox"
           }
          ],
          "scatterpolar": [
           {
            "marker": {
             "colorbar": {
              "outlinewidth": 0,
              "ticks": ""
             }
            },
            "type": "scatterpolar"
           }
          ],
          "scatterpolargl": [
           {
            "marker": {
             "colorbar": {
              "outlinewidth": 0,
              "ticks": ""
             }
            },
            "type": "scatterpolargl"
           }
          ],
          "scatterternary": [
           {
            "marker": {
             "colorbar": {
              "outlinewidth": 0,
              "ticks": ""
             }
            },
            "type": "scatterternary"
           }
          ],
          "surface": [
           {
            "colorbar": {
             "outlinewidth": 0,
             "ticks": ""
            },
            "colorscale": [
             [
              0,
              "#0d0887"
             ],
             [
              0.1111111111111111,
              "#46039f"
             ],
             [
              0.2222222222222222,
              "#7201a8"
             ],
             [
              0.3333333333333333,
              "#9c179e"
             ],
             [
              0.4444444444444444,
              "#bd3786"
             ],
             [
              0.5555555555555556,
              "#d8576b"
             ],
             [
              0.6666666666666666,
              "#ed7953"
             ],
             [
              0.7777777777777778,
              "#fb9f3a"
             ],
             [
              0.8888888888888888,
              "#fdca26"
             ],
             [
              1,
              "#f0f921"
             ]
            ],
            "type": "surface"
           }
          ],
          "table": [
           {
            "cells": {
             "fill": {
              "color": "#EBF0F8"
             },
             "line": {
              "color": "white"
             }
            },
            "header": {
             "fill": {
              "color": "#C8D4E3"
             },
             "line": {
              "color": "white"
             }
            },
            "type": "table"
           }
          ]
         },
         "layout": {
          "annotationdefaults": {
           "arrowcolor": "#2a3f5f",
           "arrowhead": 0,
           "arrowwidth": 1
          },
          "autotypenumbers": "strict",
          "coloraxis": {
           "colorbar": {
            "outlinewidth": 0,
            "ticks": ""
           }
          },
          "colorscale": {
           "diverging": [
            [
             0,
             "#8e0152"
            ],
            [
             0.1,
             "#c51b7d"
            ],
            [
             0.2,
             "#de77ae"
            ],
            [
             0.3,
             "#f1b6da"
            ],
            [
             0.4,
             "#fde0ef"
            ],
            [
             0.5,
             "#f7f7f7"
            ],
            [
             0.6,
             "#e6f5d0"
            ],
            [
             0.7,
             "#b8e186"
            ],
            [
             0.8,
             "#7fbc41"
            ],
            [
             0.9,
             "#4d9221"
            ],
            [
             1,
             "#276419"
            ]
           ],
           "sequential": [
            [
             0,
             "#0d0887"
            ],
            [
             0.1111111111111111,
             "#46039f"
            ],
            [
             0.2222222222222222,
             "#7201a8"
            ],
            [
             0.3333333333333333,
             "#9c179e"
            ],
            [
             0.4444444444444444,
             "#bd3786"
            ],
            [
             0.5555555555555556,
             "#d8576b"
            ],
            [
             0.6666666666666666,
             "#ed7953"
            ],
            [
             0.7777777777777778,
             "#fb9f3a"
            ],
            [
             0.8888888888888888,
             "#fdca26"
            ],
            [
             1,
             "#f0f921"
            ]
           ],
           "sequentialminus": [
            [
             0,
             "#0d0887"
            ],
            [
             0.1111111111111111,
             "#46039f"
            ],
            [
             0.2222222222222222,
             "#7201a8"
            ],
            [
             0.3333333333333333,
             "#9c179e"
            ],
            [
             0.4444444444444444,
             "#bd3786"
            ],
            [
             0.5555555555555556,
             "#d8576b"
            ],
            [
             0.6666666666666666,
             "#ed7953"
            ],
            [
             0.7777777777777778,
             "#fb9f3a"
            ],
            [
             0.8888888888888888,
             "#fdca26"
            ],
            [
             1,
             "#f0f921"
            ]
           ]
          },
          "colorway": [
           "#636efa",
           "#EF553B",
           "#00cc96",
           "#ab63fa",
           "#FFA15A",
           "#19d3f3",
           "#FF6692",
           "#B6E880",
           "#FF97FF",
           "#FECB52"
          ],
          "font": {
           "color": "#2a3f5f"
          },
          "geo": {
           "bgcolor": "white",
           "lakecolor": "white",
           "landcolor": "white",
           "showlakes": true,
           "showland": true,
           "subunitcolor": "#C8D4E3"
          },
          "hoverlabel": {
           "align": "left"
          },
          "hovermode": "closest",
          "mapbox": {
           "style": "light"
          },
          "paper_bgcolor": "white",
          "plot_bgcolor": "white",
          "polar": {
           "angularaxis": {
            "gridcolor": "#EBF0F8",
            "linecolor": "#EBF0F8",
            "ticks": ""
           },
           "bgcolor": "white",
           "radialaxis": {
            "gridcolor": "#EBF0F8",
            "linecolor": "#EBF0F8",
            "ticks": ""
           }
          },
          "scene": {
           "xaxis": {
            "backgroundcolor": "white",
            "gridcolor": "#DFE8F3",
            "gridwidth": 2,
            "linecolor": "#EBF0F8",
            "showbackground": true,
            "ticks": "",
            "zerolinecolor": "#EBF0F8"
           },
           "yaxis": {
            "backgroundcolor": "white",
            "gridcolor": "#DFE8F3",
            "gridwidth": 2,
            "linecolor": "#EBF0F8",
            "showbackground": true,
            "ticks": "",
            "zerolinecolor": "#EBF0F8"
           },
           "zaxis": {
            "backgroundcolor": "white",
            "gridcolor": "#DFE8F3",
            "gridwidth": 2,
            "linecolor": "#EBF0F8",
            "showbackground": true,
            "ticks": "",
            "zerolinecolor": "#EBF0F8"
           }
          },
          "shapedefaults": {
           "line": {
            "color": "#2a3f5f"
           }
          },
          "ternary": {
           "aaxis": {
            "gridcolor": "#DFE8F3",
            "linecolor": "#A2B1C6",
            "ticks": ""
           },
           "baxis": {
            "gridcolor": "#DFE8F3",
            "linecolor": "#A2B1C6",
            "ticks": ""
           },
           "bgcolor": "white",
           "caxis": {
            "gridcolor": "#DFE8F3",
            "linecolor": "#A2B1C6",
            "ticks": ""
           }
          },
          "title": {
           "x": 0.05
          },
          "xaxis": {
           "automargin": true,
           "gridcolor": "#EBF0F8",
           "linecolor": "#EBF0F8",
           "ticks": "",
           "title": {
            "standoff": 15
           },
           "zerolinecolor": "#EBF0F8",
           "zerolinewidth": 2
          },
          "yaxis": {
           "automargin": true,
           "gridcolor": "#EBF0F8",
           "linecolor": "#EBF0F8",
           "ticks": "",
           "title": {
            "standoff": 15
           },
           "zerolinecolor": "#EBF0F8",
           "zerolinewidth": 2
          }
         }
        },
        "title": {
         "text": "<b>Transition Distribution - Trip Planning (Gemini 1.5 Flash, Few-Shot Reflective Prompting)</b>",
         "x": 0.5,
         "xanchor": "center",
         "y": 0.94,
         "yanchor": "top"
        },
        "width": 1000,
        "xaxis": {
         "anchor": "y",
         "domain": [
          0,
          0.485
         ],
         "matches": "x3",
         "showgrid": true,
         "showticklabels": false,
         "zeroline": false
        },
        "xaxis2": {
         "anchor": "y2",
         "domain": [
          0.515,
          1
         ],
         "matches": "x4",
         "showgrid": true,
         "showticklabels": false,
         "zeroline": false
        },
        "xaxis3": {
         "anchor": "y3",
         "domain": [
          0,
          0.485
         ],
         "showgrid": true,
         "title": {
          "standoff": 60,
          "text": "Transition"
         },
         "zeroline": false
        },
        "xaxis4": {
         "anchor": "y4",
         "domain": [
          0.515,
          1
         ],
         "showgrid": true,
         "title": {
          "standoff": 60,
          "text": "Transition"
         },
         "zeroline": false
        },
        "yaxis": {
         "anchor": "x",
         "domain": [
          0.56,
          1
         ],
         "showgrid": true,
         "title": {
          "standoff": 25,
          "text": "Method"
         },
         "zeroline": false
        },
        "yaxis2": {
         "anchor": "x2",
         "domain": [
          0.56,
          1
         ],
         "showgrid": true,
         "showticklabels": false,
         "zeroline": false
        },
        "yaxis3": {
         "anchor": "x3",
         "domain": [
          0,
          0.44
         ],
         "showgrid": true,
         "title": {
          "standoff": 25,
          "text": "Method"
         },
         "zeroline": false
        },
        "yaxis4": {
         "anchor": "x4",
         "domain": [
          0,
          0.44
         ],
         "showgrid": true,
         "showticklabels": false,
         "zeroline": false
        }
       }
      }
     },
     "metadata": {},
     "output_type": "display_data"
    }
   ],
   "source": [
    "from typing import List, Tuple, Dict\n",
    "\n",
    "def process_data(total_df: pd.DataFrame, prompt_example: str) -> Tuple[List[str], List[float]]:\n",
    "    \"\"\"\n",
    "    Process data for a given prompt example.\n",
    "    \n",
    "    Args:\n",
    "    total_df (pd.DataFrame): The complete dataset.\n",
    "    prompt_example (str): The specific prompt example to process.\n",
    "    \n",
    "    Returns:\n",
    "    Tuple[List[str], List[float]]: A tuple containing methods and their corresponding values.\n",
    "    \"\"\"\n",
    "    df_prompt = total_df[total_df['prompt_examples'] == prompt_example]\n",
    "    \n",
    "    methods = [\n",
    "        'Reflexion + CoT<br>Max. 3 trials',\n",
    "        'Reflexion + CoT<br>Max. 2 trials',\n",
    "        'Self-Reflection + CoT<br>3 trials',\n",
    "        'Self-Reflection + CoT<br>2 trials'\n",
    "    ]\n",
    "    \n",
    "    method_mapping = {\n",
    "        'reflexion_cot_3': 'Reflexion + CoT<br>Max. 3 trials',\n",
    "        'reflexion_cot_2': 'Reflexion + CoT<br>Max. 2 trials',\n",
    "        'selfreflection_cot_3': 'Self-Reflection + CoT<br>3 trials',\n",
    "        'selfreflection_cot_2': 'Self-Reflection + CoT<br>2 trials',\n",
    "    }\n",
    "    \n",
    "    result = []\n",
    "    \n",
    "    for method in method_mapping.keys():\n",
    "        df_method = df_prompt[df_prompt['method'] == method]\n",
    "        df_transitions = df_method[df_method['transition'] == 'start_to_final']\n",
    "        transition_counts = df_transitions.groupby('result_type')['value'].sum()\n",
    "        \n",
    "        correct_to_correct = transition_counts.get('correct_to_correct', 0)\n",
    "        incorrect_to_correct = transition_counts.get('incorrect_to_correct', 0)\n",
    "        correct_to_incorrect = transition_counts.get('correct_to_incorrect', 0)\n",
    "        incorrect_to_incorrect = transition_counts.get('incorrect_to_incorrect', 0)\n",
    "        \n",
    "        total = sum(transition_counts)\n",
    "        if total == 0:\n",
    "            result.extend([0, 0, 0])\n",
    "        else:\n",
    "            result.extend([\n",
    "                (correct_to_correct + incorrect_to_incorrect) / total * 100,\n",
    "                incorrect_to_correct / total * 100,\n",
    "                correct_to_incorrect / total * 100\n",
    "            ])\n",
    "    \n",
    "    return methods, result\n",
    "\n",
    "def create_heatmap(methods: List[str], values: List[float], show_colorbar: bool = False) -> go.Heatmap:\n",
    "    \"\"\"\n",
    "    Create a heatmap trace for the subplot.\n",
    "    \n",
    "    Args:\n",
    "    methods (List[str]): List of methods.\n",
    "    values (List[float]): List of corresponding values.\n",
    "    show_colorbar (bool): Whether to show the colorbar.\n",
    "    \n",
    "    Returns:\n",
    "    go.Heatmap: A Plotly heatmap object.\n",
    "    \"\"\"\n",
    "    z_values = [values[i:i+3] for i in range(0, len(values), 3)]\n",
    "    return go.Heatmap(\n",
    "        z=z_values,\n",
    "        x=['No Change', 'Incorrect ⇒ Correct', 'Correct ⇒ Incorrect'],\n",
    "        y=methods,\n",
    "        colorscale='RdBu',\n",
    "        zmin=0,\n",
    "        zmax=100,\n",
    "        showscale=show_colorbar,\n",
    "        colorbar=dict(\n",
    "            title=\"Percentage (%)\", \n",
    "            orientation=\"h\",\n",
    "            y=1.1,\n",
    "            x=0.5,\n",
    "            yanchor=\"bottom\",\n",
    "            thickness=20,\n",
    "            title_side=\"top\",\n",
    "        ),\n",
    "        text=[[f\"{val:.1f}%\" for val in row] for row in z_values],\n",
    "        texttemplate=\"%{text}\",\n",
    "        textfont={\"size\": 12},\n",
    "        hovertemplate='Method: %{y}<br>Transition: %{x}<br>Percentage: %{z:.1f}%<extra></extra>'\n",
    "    )\n",
    "\n",
    "def create_visualization(total_df: pd.DataFrame) -> None:\n",
    "    \"\"\"\n",
    "    Create and save the visualization.\n",
    "    \n",
    "    Args:\n",
    "    total_df (pd.DataFrame): The complete dataset.\n",
    "    \"\"\"\n",
    "    titles = [\n",
    "        '<b>Negative Prompt<br>Negative Examples</b>',\n",
    "        '<b>Negative Prompt<br>Mixed Examples</b>',\n",
    "        '<b>Critical Prompt<br>Negative Examples</b>',\n",
    "        '<b>Critical Prompt<br>Mixed Examples</b>'\n",
    "    ]\n",
    "\n",
    "    prompt_examples = [\n",
    "        'negative_prompt_negative_examples',\n",
    "        'negative_prompt_mixed_examples',\n",
    "        'critical_prompt_negative_examples',\n",
    "        'critical_prompt_mixed_examples'\n",
    "    ]\n",
    "\n",
    "    fig = make_subplots(rows=2,\n",
    "                        cols=2,\n",
    "                        subplot_titles=titles,\n",
    "                        horizontal_spacing=0.03,  # Increased from 0.1\n",
    "                        vertical_spacing=0.12,   # Increased from 0.2,\n",
    "                        shared_xaxes=True,\n",
    "     )\n",
    "\n",
    "    for i, (title, prompt_example) in enumerate(zip(titles, prompt_examples)):\n",
    "        row = i // 2 + 1\n",
    "        col = i % 2 + 1\n",
    "        \n",
    "        methods, values = process_data(total_df, prompt_example)\n",
    "        heatmap = create_heatmap(methods, values, show_colorbar=(i == 1))\n",
    "        fig.add_trace(heatmap, row=row, col=col)\n",
    "\n",
    "        if col == 1:\n",
    "            fig.update_yaxes(\n",
    "                title_text='Method',\n",
    "                row=row,\n",
    "                col=col,\n",
    "                title_standoff=25\n",
    "            )\n",
    "        \n",
    "        if row == 2:\n",
    "            fig.update_xaxes(\n",
    "                title_text='Transition',\n",
    "                row=row,\n",
    "                col=col,\n",
    "                # Move it a bit down\n",
    "                title_standoff=60\n",
    "        )\n",
    "\n",
    "\n",
    "    fig.update_layout(\n",
    "        title={\n",
    "            'text': '<b>Transition Distribution - Trip Planning (Gemini 1.5 Flash, Few-Shot Reflective Prompting)</b>',\n",
    "            'y': 0.94,\n",
    "            'x': 0.5,\n",
    "            'xanchor': 'center',\n",
    "            'yanchor': 'top',\n",
    "        },\n",
    "        template='plotly_white',\n",
    "        font=dict(family=\"Arial, sans-serif\", size=12),\n",
    "        width=1000,\n",
    "        height=700,\n",
    "        margin=dict(t=150, b=0) \n",
    "    )\n",
    "\n",
    "    # Update x-axes\n",
    "    fig.update_xaxes(showgrid=False, zeroline=False)\n",
    "\n",
    "    # Update y-axes\n",
    "    fig.update_yaxes(showgrid=False, zeroline=False)\n",
    "    fig.update_yaxes(showticklabels=False, row=1, col=2)\n",
    "    fig.update_yaxes(showticklabels=False, row=2, col=2)\n",
    "\n",
    "    for i in fig['layout']['annotations']:\n",
    "        i['font'] = dict(family=\"Arial, sans-serif\", size=12)\n",
    "\n",
    "    fig.update_xaxes(showgrid=True)\n",
    "    fig.update_yaxes(showgrid=True)\n",
    "\n",
    "    fig.show()\n",
    "    fig.write_image(\"transition_distribution_prompt_examples.pdf\")\n",
    "\n",
    "\n",
    "create_visualization(total_df)"
   ]
  },
  {
   "cell_type": "code",
   "execution_count": 9,
   "metadata": {},
   "outputs": [],
   "source": [
    "df = total_df\n",
    "\n",
    "filtered_df_list = [\n",
    "    df[df['method'] == 'cot_1'],\n",
    "    filter_and_rename(df, 'selfreflection_cot_2', 'correct_state_2', 'incorrect_state_2'),\n",
    "    filter_and_rename(df, 'reflexion_cot_2', 'correct_state_2', 'incorrect_state_2'),\n",
    "    filter_and_rename(df, 'selfreflection_cot_3', 'correct_state_3', 'incorrect_state_3'),\n",
    "    filter_and_rename(df, 'reflexion_cot_3', 'correct_state_3', 'incorrect_state_3')\n",
    "]\n",
    "\n",
    "filtered_df = pd.concat(filtered_df_list, ignore_index=True)\n",
    "\n",
    "desired_order = ['cot_1', 'selfreflection_cot_2', 'selfreflection_cot_3', 'reflexion_cot_2', 'reflexion_cot_3']\n",
    "filtered_df['method'] = pd.Categorical(filtered_df['method'], categories=desired_order, ordered=True)\n",
    "\n",
    "groupped_df = filtered_df.groupby([\"method\", \"result_type\"]).agg({\"value\": \"sum\"}).reset_index()"
   ]
  },
  {
   "cell_type": "code",
   "execution_count": 11,
   "metadata": {},
   "outputs": [
    {
     "data": {
      "application/vnd.plotly.v1+json": {
       "config": {
        "plotlyServerURL": "https://plot.ly"
       },
       "data": [
        {
         "marker": {
          "color": "#0173B2"
         },
         "name": "No Change",
         "showlegend": true,
         "text": [
          "85.5%",
          "84.5%",
          "90.5%",
          "88.0%"
         ],
         "textposition": "inside",
         "type": "bar",
         "x": [
          "Self-Reflection<br>+ CoT<br>2 trials",
          "Self-Reflection<br>+ CoT<br>3 trials",
          "Reflexion<br>+ CoT<br>Max. 2 trials",
          "Reflexion<br>+ CoT<br>Max. 3 trials"
         ],
         "xaxis": "x",
         "y": [
          85.5,
          84.5,
          90.5,
          88
         ],
         "yaxis": "y"
        },
        {
         "marker": {
          "color": "#029E73"
         },
         "name": "Incorrect ⇒ Correct",
         "showlegend": true,
         "text": [
          "7.5%",
          "7.0%",
          "9.5%",
          "12.0%"
         ],
         "textposition": "inside",
         "type": "bar",
         "x": [
          "Self-Reflection<br>+ CoT<br>2 trials",
          "Self-Reflection<br>+ CoT<br>3 trials",
          "Reflexion<br>+ CoT<br>Max. 2 trials",
          "Reflexion<br>+ CoT<br>Max. 3 trials"
         ],
         "xaxis": "x",
         "y": [
          7.5,
          7.000000000000001,
          9.5,
          12
         ],
         "yaxis": "y"
        },
        {
         "marker": {
          "color": "#D55E00"
         },
         "name": "Correct ⇒ Incorrect",
         "showlegend": true,
         "text": [
          "7.0%",
          "8.5%",
          "0.0%",
          "0.0%"
         ],
         "textposition": "inside",
         "type": "bar",
         "x": [
          "Self-Reflection<br>+ CoT<br>2 trials",
          "Self-Reflection<br>+ CoT<br>3 trials",
          "Reflexion<br>+ CoT<br>Max. 2 trials",
          "Reflexion<br>+ CoT<br>Max. 3 trials"
         ],
         "xaxis": "x",
         "y": [
          7.000000000000001,
          8.5,
          0,
          0
         ],
         "yaxis": "y"
        },
        {
         "marker": {
          "color": "#0173B2"
         },
         "name": "No Change",
         "showlegend": false,
         "text": [
          "85.0%",
          "84.5%",
          "93.5%",
          "90.5%"
         ],
         "textposition": "inside",
         "type": "bar",
         "x": [
          "Self-Reflection<br>+ CoT<br>2 trials",
          "Self-Reflection<br>+ CoT<br>3 trials",
          "Reflexion<br>+ CoT<br>Max. 2 trials",
          "Reflexion<br>+ CoT<br>Max. 3 trials"
         ],
         "xaxis": "x2",
         "y": [
          85,
          84.5,
          93.5,
          90.5
         ],
         "yaxis": "y2"
        },
        {
         "marker": {
          "color": "#029E73"
         },
         "name": "Incorrect ⇒ Correct",
         "showlegend": false,
         "text": [
          "8.0%",
          "6.0%",
          "6.5%",
          "9.5%"
         ],
         "textposition": "inside",
         "type": "bar",
         "x": [
          "Self-Reflection<br>+ CoT<br>2 trials",
          "Self-Reflection<br>+ CoT<br>3 trials",
          "Reflexion<br>+ CoT<br>Max. 2 trials",
          "Reflexion<br>+ CoT<br>Max. 3 trials"
         ],
         "xaxis": "x2",
         "y": [
          8,
          6,
          6.5,
          9.5
         ],
         "yaxis": "y2"
        },
        {
         "marker": {
          "color": "#D55E00"
         },
         "name": "Correct ⇒ Incorrect",
         "showlegend": false,
         "text": [
          "7.0%",
          "9.5%",
          "0.0%",
          "0.0%"
         ],
         "textposition": "inside",
         "type": "bar",
         "x": [
          "Self-Reflection<br>+ CoT<br>2 trials",
          "Self-Reflection<br>+ CoT<br>3 trials",
          "Reflexion<br>+ CoT<br>Max. 2 trials",
          "Reflexion<br>+ CoT<br>Max. 3 trials"
         ],
         "xaxis": "x2",
         "y": [
          7.000000000000001,
          9.5,
          0,
          0
         ],
         "yaxis": "y2"
        },
        {
         "marker": {
          "color": "#0173B2"
         },
         "name": "No Change",
         "showlegend": false,
         "text": [
          "87.5%",
          "82.5%",
          "92.5%",
          "88.0%"
         ],
         "textposition": "inside",
         "type": "bar",
         "x": [
          "Self-Reflection<br>+ CoT<br>2 trials",
          "Self-Reflection<br>+ CoT<br>3 trials",
          "Reflexion<br>+ CoT<br>Max. 2 trials",
          "Reflexion<br>+ CoT<br>Max. 3 trials"
         ],
         "xaxis": "x3",
         "y": [
          87.5,
          82.5,
          92.5,
          88
         ],
         "yaxis": "y3"
        },
        {
         "marker": {
          "color": "#029E73"
         },
         "name": "Incorrect ⇒ Correct",
         "showlegend": false,
         "text": [
          "7.0%",
          "9.0%",
          "7.5%",
          "12.0%"
         ],
         "textposition": "inside",
         "type": "bar",
         "x": [
          "Self-Reflection<br>+ CoT<br>2 trials",
          "Self-Reflection<br>+ CoT<br>3 trials",
          "Reflexion<br>+ CoT<br>Max. 2 trials",
          "Reflexion<br>+ CoT<br>Max. 3 trials"
         ],
         "xaxis": "x3",
         "y": [
          7.000000000000001,
          9,
          7.5,
          12
         ],
         "yaxis": "y3"
        },
        {
         "marker": {
          "color": "#D55E00"
         },
         "name": "Correct ⇒ Incorrect",
         "showlegend": false,
         "text": [
          "5.5%",
          "8.5%",
          "0.0%",
          "0.0%"
         ],
         "textposition": "inside",
         "type": "bar",
         "x": [
          "Self-Reflection<br>+ CoT<br>2 trials",
          "Self-Reflection<br>+ CoT<br>3 trials",
          "Reflexion<br>+ CoT<br>Max. 2 trials",
          "Reflexion<br>+ CoT<br>Max. 3 trials"
         ],
         "xaxis": "x3",
         "y": [
          5.5,
          8.5,
          0,
          0
         ],
         "yaxis": "y3"
        },
        {
         "marker": {
          "color": "#0173B2"
         },
         "name": "No Change",
         "showlegend": false,
         "text": [
          "84.0%",
          "87.0%",
          "92.5%",
          "86.0%"
         ],
         "textposition": "inside",
         "type": "bar",
         "x": [
          "Self-Reflection<br>+ CoT<br>2 trials",
          "Self-Reflection<br>+ CoT<br>3 trials",
          "Reflexion<br>+ CoT<br>Max. 2 trials",
          "Reflexion<br>+ CoT<br>Max. 3 trials"
         ],
         "xaxis": "x4",
         "y": [
          84,
          87,
          92.5,
          86
         ],
         "yaxis": "y4"
        },
        {
         "marker": {
          "color": "#029E73"
         },
         "name": "Incorrect ⇒ Correct",
         "showlegend": false,
         "text": [
          "8.0%",
          "6.5%",
          "7.5%",
          "14.0%"
         ],
         "textposition": "inside",
         "type": "bar",
         "x": [
          "Self-Reflection<br>+ CoT<br>2 trials",
          "Self-Reflection<br>+ CoT<br>3 trials",
          "Reflexion<br>+ CoT<br>Max. 2 trials",
          "Reflexion<br>+ CoT<br>Max. 3 trials"
         ],
         "xaxis": "x4",
         "y": [
          8,
          6.5,
          7.5,
          14.000000000000002
         ],
         "yaxis": "y4"
        },
        {
         "marker": {
          "color": "#D55E00"
         },
         "name": "Correct ⇒ Incorrect",
         "showlegend": false,
         "text": [
          "8.0%",
          "6.5%",
          "0.0%",
          "0.0%"
         ],
         "textposition": "inside",
         "type": "bar",
         "x": [
          "Self-Reflection<br>+ CoT<br>2 trials",
          "Self-Reflection<br>+ CoT<br>3 trials",
          "Reflexion<br>+ CoT<br>Max. 2 trials",
          "Reflexion<br>+ CoT<br>Max. 3 trials"
         ],
         "xaxis": "x4",
         "y": [
          8,
          6.5,
          0,
          0
         ],
         "yaxis": "y4"
        }
       ],
       "layout": {
        "annotations": [
         {
          "font": {
           "family": "Arial, sans-serif",
           "size": 14
          },
          "showarrow": false,
          "text": "<b>Negative Prompt<br>Negative Examples</b>",
          "x": 0.225,
          "xanchor": "center",
          "xref": "paper",
          "y": 0.9999999999999999,
          "yanchor": "bottom",
          "yref": "paper"
         },
         {
          "font": {
           "family": "Arial, sans-serif",
           "size": 14
          },
          "showarrow": false,
          "text": "<b>Negative Prompt<br>Mixed Examples</b>",
          "x": 0.775,
          "xanchor": "center",
          "xref": "paper",
          "y": 0.9999999999999999,
          "yanchor": "bottom",
          "yref": "paper"
         },
         {
          "font": {
           "family": "Arial, sans-serif",
           "size": 14
          },
          "showarrow": false,
          "text": "<b>Critical Prompt<br>Negative Examples</b>",
          "x": 0.225,
          "xanchor": "center",
          "xref": "paper",
          "y": 0.4125,
          "yanchor": "bottom",
          "yref": "paper"
         },
         {
          "font": {
           "family": "Arial, sans-serif",
           "size": 14
          },
          "showarrow": false,
          "text": "<b>Critical Prompt<br>Mixed Examples</b>",
          "x": 0.775,
          "xanchor": "center",
          "xref": "paper",
          "y": 0.4125,
          "yanchor": "bottom",
          "yref": "paper"
         }
        ],
        "barmode": "stack",
        "font": {
         "family": "Arial, sans-serif",
         "size": 12
        },
        "height": 800,
        "legend": {
         "orientation": "h",
         "title": {
          "text": "Transition"
         },
         "x": 0.5,
         "xanchor": "center",
         "y": 1.08,
         "yanchor": "bottom"
        },
        "margin": {
         "t": 120
        },
        "showlegend": true,
        "template": {
         "data": {
          "bar": [
           {
            "error_x": {
             "color": "#2a3f5f"
            },
            "error_y": {
             "color": "#2a3f5f"
            },
            "marker": {
             "line": {
              "color": "white",
              "width": 0.5
             },
             "pattern": {
              "fillmode": "overlay",
              "size": 10,
              "solidity": 0.2
             }
            },
            "type": "bar"
           }
          ],
          "barpolar": [
           {
            "marker": {
             "line": {
              "color": "white",
              "width": 0.5
             },
             "pattern": {
              "fillmode": "overlay",
              "size": 10,
              "solidity": 0.2
             }
            },
            "type": "barpolar"
           }
          ],
          "carpet": [
           {
            "aaxis": {
             "endlinecolor": "#2a3f5f",
             "gridcolor": "#C8D4E3",
             "linecolor": "#C8D4E3",
             "minorgridcolor": "#C8D4E3",
             "startlinecolor": "#2a3f5f"
            },
            "baxis": {
             "endlinecolor": "#2a3f5f",
             "gridcolor": "#C8D4E3",
             "linecolor": "#C8D4E3",
             "minorgridcolor": "#C8D4E3",
             "startlinecolor": "#2a3f5f"
            },
            "type": "carpet"
           }
          ],
          "choropleth": [
           {
            "colorbar": {
             "outlinewidth": 0,
             "ticks": ""
            },
            "type": "choropleth"
           }
          ],
          "contour": [
           {
            "colorbar": {
             "outlinewidth": 0,
             "ticks": ""
            },
            "colorscale": [
             [
              0,
              "#0d0887"
             ],
             [
              0.1111111111111111,
              "#46039f"
             ],
             [
              0.2222222222222222,
              "#7201a8"
             ],
             [
              0.3333333333333333,
              "#9c179e"
             ],
             [
              0.4444444444444444,
              "#bd3786"
             ],
             [
              0.5555555555555556,
              "#d8576b"
             ],
             [
              0.6666666666666666,
              "#ed7953"
             ],
             [
              0.7777777777777778,
              "#fb9f3a"
             ],
             [
              0.8888888888888888,
              "#fdca26"
             ],
             [
              1,
              "#f0f921"
             ]
            ],
            "type": "contour"
           }
          ],
          "contourcarpet": [
           {
            "colorbar": {
             "outlinewidth": 0,
             "ticks": ""
            },
            "type": "contourcarpet"
           }
          ],
          "heatmap": [
           {
            "colorbar": {
             "outlinewidth": 0,
             "ticks": ""
            },
            "colorscale": [
             [
              0,
              "#0d0887"
             ],
             [
              0.1111111111111111,
              "#46039f"
             ],
             [
              0.2222222222222222,
              "#7201a8"
             ],
             [
              0.3333333333333333,
              "#9c179e"
             ],
             [
              0.4444444444444444,
              "#bd3786"
             ],
             [
              0.5555555555555556,
              "#d8576b"
             ],
             [
              0.6666666666666666,
              "#ed7953"
             ],
             [
              0.7777777777777778,
              "#fb9f3a"
             ],
             [
              0.8888888888888888,
              "#fdca26"
             ],
             [
              1,
              "#f0f921"
             ]
            ],
            "type": "heatmap"
           }
          ],
          "heatmapgl": [
           {
            "colorbar": {
             "outlinewidth": 0,
             "ticks": ""
            },
            "colorscale": [
             [
              0,
              "#0d0887"
             ],
             [
              0.1111111111111111,
              "#46039f"
             ],
             [
              0.2222222222222222,
              "#7201a8"
             ],
             [
              0.3333333333333333,
              "#9c179e"
             ],
             [
              0.4444444444444444,
              "#bd3786"
             ],
             [
              0.5555555555555556,
              "#d8576b"
             ],
             [
              0.6666666666666666,
              "#ed7953"
             ],
             [
              0.7777777777777778,
              "#fb9f3a"
             ],
             [
              0.8888888888888888,
              "#fdca26"
             ],
             [
              1,
              "#f0f921"
             ]
            ],
            "type": "heatmapgl"
           }
          ],
          "histogram": [
           {
            "marker": {
             "pattern": {
              "fillmode": "overlay",
              "size": 10,
              "solidity": 0.2
             }
            },
            "type": "histogram"
           }
          ],
          "histogram2d": [
           {
            "colorbar": {
             "outlinewidth": 0,
             "ticks": ""
            },
            "colorscale": [
             [
              0,
              "#0d0887"
             ],
             [
              0.1111111111111111,
              "#46039f"
             ],
             [
              0.2222222222222222,
              "#7201a8"
             ],
             [
              0.3333333333333333,
              "#9c179e"
             ],
             [
              0.4444444444444444,
              "#bd3786"
             ],
             [
              0.5555555555555556,
              "#d8576b"
             ],
             [
              0.6666666666666666,
              "#ed7953"
             ],
             [
              0.7777777777777778,
              "#fb9f3a"
             ],
             [
              0.8888888888888888,
              "#fdca26"
             ],
             [
              1,
              "#f0f921"
             ]
            ],
            "type": "histogram2d"
           }
          ],
          "histogram2dcontour": [
           {
            "colorbar": {
             "outlinewidth": 0,
             "ticks": ""
            },
            "colorscale": [
             [
              0,
              "#0d0887"
             ],
             [
              0.1111111111111111,
              "#46039f"
             ],
             [
              0.2222222222222222,
              "#7201a8"
             ],
             [
              0.3333333333333333,
              "#9c179e"
             ],
             [
              0.4444444444444444,
              "#bd3786"
             ],
             [
              0.5555555555555556,
              "#d8576b"
             ],
             [
              0.6666666666666666,
              "#ed7953"
             ],
             [
              0.7777777777777778,
              "#fb9f3a"
             ],
             [
              0.8888888888888888,
              "#fdca26"
             ],
             [
              1,
              "#f0f921"
             ]
            ],
            "type": "histogram2dcontour"
           }
          ],
          "mesh3d": [
           {
            "colorbar": {
             "outlinewidth": 0,
             "ticks": ""
            },
            "type": "mesh3d"
           }
          ],
          "parcoords": [
           {
            "line": {
             "colorbar": {
              "outlinewidth": 0,
              "ticks": ""
             }
            },
            "type": "parcoords"
           }
          ],
          "pie": [
           {
            "automargin": true,
            "type": "pie"
           }
          ],
          "scatter": [
           {
            "fillpattern": {
             "fillmode": "overlay",
             "size": 10,
             "solidity": 0.2
            },
            "type": "scatter"
           }
          ],
          "scatter3d": [
           {
            "line": {
             "colorbar": {
              "outlinewidth": 0,
              "ticks": ""
             }
            },
            "marker": {
             "colorbar": {
              "outlinewidth": 0,
              "ticks": ""
             }
            },
            "type": "scatter3d"
           }
          ],
          "scattercarpet": [
           {
            "marker": {
             "colorbar": {
              "outlinewidth": 0,
              "ticks": ""
             }
            },
            "type": "scattercarpet"
           }
          ],
          "scattergeo": [
           {
            "marker": {
             "colorbar": {
              "outlinewidth": 0,
              "ticks": ""
             }
            },
            "type": "scattergeo"
           }
          ],
          "scattergl": [
           {
            "marker": {
             "colorbar": {
              "outlinewidth": 0,
              "ticks": ""
             }
            },
            "type": "scattergl"
           }
          ],
          "scattermapbox": [
           {
            "marker": {
             "colorbar": {
              "outlinewidth": 0,
              "ticks": ""
             }
            },
            "type": "scattermapbox"
           }
          ],
          "scatterpolar": [
           {
            "marker": {
             "colorbar": {
              "outlinewidth": 0,
              "ticks": ""
             }
            },
            "type": "scatterpolar"
           }
          ],
          "scatterpolargl": [
           {
            "marker": {
             "colorbar": {
              "outlinewidth": 0,
              "ticks": ""
             }
            },
            "type": "scatterpolargl"
           }
          ],
          "scatterternary": [
           {
            "marker": {
             "colorbar": {
              "outlinewidth": 0,
              "ticks": ""
             }
            },
            "type": "scatterternary"
           }
          ],
          "surface": [
           {
            "colorbar": {
             "outlinewidth": 0,
             "ticks": ""
            },
            "colorscale": [
             [
              0,
              "#0d0887"
             ],
             [
              0.1111111111111111,
              "#46039f"
             ],
             [
              0.2222222222222222,
              "#7201a8"
             ],
             [
              0.3333333333333333,
              "#9c179e"
             ],
             [
              0.4444444444444444,
              "#bd3786"
             ],
             [
              0.5555555555555556,
              "#d8576b"
             ],
             [
              0.6666666666666666,
              "#ed7953"
             ],
             [
              0.7777777777777778,
              "#fb9f3a"
             ],
             [
              0.8888888888888888,
              "#fdca26"
             ],
             [
              1,
              "#f0f921"
             ]
            ],
            "type": "surface"
           }
          ],
          "table": [
           {
            "cells": {
             "fill": {
              "color": "#EBF0F8"
             },
             "line": {
              "color": "white"
             }
            },
            "header": {
             "fill": {
              "color": "#C8D4E3"
             },
             "line": {
              "color": "white"
             }
            },
            "type": "table"
           }
          ]
         },
         "layout": {
          "annotationdefaults": {
           "arrowcolor": "#2a3f5f",
           "arrowhead": 0,
           "arrowwidth": 1
          },
          "autotypenumbers": "strict",
          "coloraxis": {
           "colorbar": {
            "outlinewidth": 0,
            "ticks": ""
           }
          },
          "colorscale": {
           "diverging": [
            [
             0,
             "#8e0152"
            ],
            [
             0.1,
             "#c51b7d"
            ],
            [
             0.2,
             "#de77ae"
            ],
            [
             0.3,
             "#f1b6da"
            ],
            [
             0.4,
             "#fde0ef"
            ],
            [
             0.5,
             "#f7f7f7"
            ],
            [
             0.6,
             "#e6f5d0"
            ],
            [
             0.7,
             "#b8e186"
            ],
            [
             0.8,
             "#7fbc41"
            ],
            [
             0.9,
             "#4d9221"
            ],
            [
             1,
             "#276419"
            ]
           ],
           "sequential": [
            [
             0,
             "#0d0887"
            ],
            [
             0.1111111111111111,
             "#46039f"
            ],
            [
             0.2222222222222222,
             "#7201a8"
            ],
            [
             0.3333333333333333,
             "#9c179e"
            ],
            [
             0.4444444444444444,
             "#bd3786"
            ],
            [
             0.5555555555555556,
             "#d8576b"
            ],
            [
             0.6666666666666666,
             "#ed7953"
            ],
            [
             0.7777777777777778,
             "#fb9f3a"
            ],
            [
             0.8888888888888888,
             "#fdca26"
            ],
            [
             1,
             "#f0f921"
            ]
           ],
           "sequentialminus": [
            [
             0,
             "#0d0887"
            ],
            [
             0.1111111111111111,
             "#46039f"
            ],
            [
             0.2222222222222222,
             "#7201a8"
            ],
            [
             0.3333333333333333,
             "#9c179e"
            ],
            [
             0.4444444444444444,
             "#bd3786"
            ],
            [
             0.5555555555555556,
             "#d8576b"
            ],
            [
             0.6666666666666666,
             "#ed7953"
            ],
            [
             0.7777777777777778,
             "#fb9f3a"
            ],
            [
             0.8888888888888888,
             "#fdca26"
            ],
            [
             1,
             "#f0f921"
            ]
           ]
          },
          "colorway": [
           "#636efa",
           "#EF553B",
           "#00cc96",
           "#ab63fa",
           "#FFA15A",
           "#19d3f3",
           "#FF6692",
           "#B6E880",
           "#FF97FF",
           "#FECB52"
          ],
          "font": {
           "color": "#2a3f5f"
          },
          "geo": {
           "bgcolor": "white",
           "lakecolor": "white",
           "landcolor": "white",
           "showlakes": true,
           "showland": true,
           "subunitcolor": "#C8D4E3"
          },
          "hoverlabel": {
           "align": "left"
          },
          "hovermode": "closest",
          "mapbox": {
           "style": "light"
          },
          "paper_bgcolor": "white",
          "plot_bgcolor": "white",
          "polar": {
           "angularaxis": {
            "gridcolor": "#EBF0F8",
            "linecolor": "#EBF0F8",
            "ticks": ""
           },
           "bgcolor": "white",
           "radialaxis": {
            "gridcolor": "#EBF0F8",
            "linecolor": "#EBF0F8",
            "ticks": ""
           }
          },
          "scene": {
           "xaxis": {
            "backgroundcolor": "white",
            "gridcolor": "#DFE8F3",
            "gridwidth": 2,
            "linecolor": "#EBF0F8",
            "showbackground": true,
            "ticks": "",
            "zerolinecolor": "#EBF0F8"
           },
           "yaxis": {
            "backgroundcolor": "white",
            "gridcolor": "#DFE8F3",
            "gridwidth": 2,
            "linecolor": "#EBF0F8",
            "showbackground": true,
            "ticks": "",
            "zerolinecolor": "#EBF0F8"
           },
           "zaxis": {
            "backgroundcolor": "white",
            "gridcolor": "#DFE8F3",
            "gridwidth": 2,
            "linecolor": "#EBF0F8",
            "showbackground": true,
            "ticks": "",
            "zerolinecolor": "#EBF0F8"
           }
          },
          "shapedefaults": {
           "line": {
            "color": "#2a3f5f"
           }
          },
          "ternary": {
           "aaxis": {
            "gridcolor": "#DFE8F3",
            "linecolor": "#A2B1C6",
            "ticks": ""
           },
           "baxis": {
            "gridcolor": "#DFE8F3",
            "linecolor": "#A2B1C6",
            "ticks": ""
           },
           "bgcolor": "white",
           "caxis": {
            "gridcolor": "#DFE8F3",
            "linecolor": "#A2B1C6",
            "ticks": ""
           }
          },
          "title": {
           "x": 0.05
          },
          "xaxis": {
           "automargin": true,
           "gridcolor": "#EBF0F8",
           "linecolor": "#EBF0F8",
           "ticks": "",
           "title": {
            "standoff": 15
           },
           "zerolinecolor": "#EBF0F8",
           "zerolinewidth": 2
          },
          "yaxis": {
           "automargin": true,
           "gridcolor": "#EBF0F8",
           "linecolor": "#EBF0F8",
           "ticks": "",
           "title": {
            "standoff": 15
           },
           "zerolinecolor": "#EBF0F8",
           "zerolinewidth": 2
          }
         }
        },
        "title": {
         "text": "<b>Transition Outcomes - Trip Planning (Gemini 1.5 Flash, Few-Shot Reflective Prompting)</b>",
         "x": 0.5,
         "xanchor": "center",
         "y": 0.97,
         "yanchor": "top"
        },
        "width": 1000,
        "xaxis": {
         "anchor": "y",
         "categoryarray": [
          "Self-Reflection<br>+ CoT<br>2 trials",
          "Self-Reflection<br>+ CoT<br>3 trials",
          "Reflexion<br>+ CoT<br>Max. 2 trials",
          "Reflexion<br>+ CoT<br>Max. 3 trials"
         ],
         "categoryorder": "array",
         "domain": [
          0,
          0.45
         ],
         "linecolor": "black",
         "mirror": "all",
         "showgrid": false,
         "showline": true,
         "tickfont": {
          "color": "black"
         },
         "zeroline": false
        },
        "xaxis2": {
         "anchor": "y2",
         "categoryarray": [
          "Self-Reflection<br>+ CoT<br>2 trials",
          "Self-Reflection<br>+ CoT<br>3 trials",
          "Reflexion<br>+ CoT<br>Max. 2 trials",
          "Reflexion<br>+ CoT<br>Max. 3 trials"
         ],
         "categoryorder": "array",
         "domain": [
          0.55,
          1
         ],
         "linecolor": "black",
         "mirror": "all",
         "showgrid": false,
         "showline": true,
         "tickfont": {
          "color": "black"
         },
         "zeroline": false
        },
        "xaxis3": {
         "anchor": "y3",
         "categoryarray": [
          "Self-Reflection<br>+ CoT<br>2 trials",
          "Self-Reflection<br>+ CoT<br>3 trials",
          "Reflexion<br>+ CoT<br>Max. 2 trials",
          "Reflexion<br>+ CoT<br>Max. 3 trials"
         ],
         "categoryorder": "array",
         "domain": [
          0,
          0.45
         ],
         "linecolor": "black",
         "mirror": "all",
         "showgrid": false,
         "showline": true,
         "tickfont": {
          "color": "black"
         },
         "title": {
          "text": "Transition"
         },
         "zeroline": false
        },
        "xaxis4": {
         "anchor": "y4",
         "categoryarray": [
          "Self-Reflection<br>+ CoT<br>2 trials",
          "Self-Reflection<br>+ CoT<br>3 trials",
          "Reflexion<br>+ CoT<br>Max. 2 trials",
          "Reflexion<br>+ CoT<br>Max. 3 trials"
         ],
         "categoryorder": "array",
         "domain": [
          0.55,
          1
         ],
         "linecolor": "black",
         "mirror": "all",
         "showgrid": false,
         "showline": true,
         "tickfont": {
          "color": "black"
         },
         "title": {
          "text": "Transition"
         },
         "zeroline": false
        },
        "yaxis": {
         "anchor": "x",
         "domain": [
          0.5874999999999999,
          0.9999999999999999
         ],
         "gridcolor": "lightgrey",
         "gridwidth": 1,
         "linecolor": "black",
         "mirror": "all",
         "range": [
          0,
          100
         ],
         "showline": true,
         "tickfont": {
          "color": "black"
         },
         "tickvals": [
          0,
          20,
          40,
          60,
          80,
          100
         ],
         "title": {
          "text": "Percentage (%)"
         },
         "zeroline": false
        },
        "yaxis2": {
         "anchor": "x2",
         "domain": [
          0.5874999999999999,
          0.9999999999999999
         ],
         "gridcolor": "lightgrey",
         "gridwidth": 1,
         "linecolor": "black",
         "mirror": "all",
         "range": [
          0,
          100
         ],
         "showline": true,
         "tickfont": {
          "color": "black"
         },
         "tickvals": [
          0,
          20,
          40,
          60,
          80,
          100
         ],
         "zeroline": false
        },
        "yaxis3": {
         "anchor": "x3",
         "domain": [
          0,
          0.4125
         ],
         "gridcolor": "lightgrey",
         "gridwidth": 1,
         "linecolor": "black",
         "mirror": "all",
         "range": [
          0,
          100
         ],
         "showline": true,
         "tickfont": {
          "color": "black"
         },
         "tickvals": [
          0,
          20,
          40,
          60,
          80,
          100
         ],
         "title": {
          "text": "Percentage (%)"
         },
         "zeroline": false
        },
        "yaxis4": {
         "anchor": "x4",
         "domain": [
          0,
          0.4125
         ],
         "gridcolor": "lightgrey",
         "gridwidth": 1,
         "linecolor": "black",
         "mirror": "all",
         "range": [
          0,
          100
         ],
         "showline": true,
         "tickfont": {
          "color": "black"
         },
         "tickvals": [
          0,
          20,
          40,
          60,
          80,
          100
         ],
         "zeroline": false
        }
       }
      }
     },
     "metadata": {},
     "output_type": "display_data"
    }
   ],
   "source": [
    "# Assuming 'total_df' is your DataFrame and other necessary mappings are defined\n",
    "# Define your colors appropriately\n",
    "method_colors = {\n",
    "    'selfreflection_cot_2': colors[0],\n",
    "    'selfreflection_cot_3': colors[1],\n",
    "    'reflexion_cot_2': colors[2],\n",
    "    'reflexion_cot_3': colors[3],\n",
    "}\n",
    "method_name_mapping = {\n",
    "    'selfreflection_cot_2': 'Self-Reflection + CoT<br>2 Trials',\n",
    "    'selfreflection_cot_3': 'Self-Reflection + CoT<br>3 Trials',\n",
    "    'reflexion_cot_2': 'Reflexion + CoT<br>Max. 2 Trials',\n",
    "    'reflexion_cot_3': 'Reflexion + CoT<br>Max. 3 Trials',\n",
    "}\n",
    "\n",
    "# Function to process data from the new dataframe\n",
    "def process_data(total_df, prompt_example):\n",
    "    # Filter the dataframe for the given prompt_example\n",
    "    df_prompt = total_df[total_df['prompt_examples'] == prompt_example]\n",
    "    \n",
    "    categories = ['Self-Reflection<br>+ CoT<br>2 trials', \n",
    "                  'Self-Reflection<br>+ CoT<br>3 trials',\n",
    "                  'Reflexion<br>+ CoT<br>Max. 2 trials', \n",
    "                  'Reflexion<br>+ CoT<br>Max. 3 trials']\n",
    "    \n",
    "    method_mapping = {\n",
    "        'cot_1': 'CoT<br><br>1 trial',\n",
    "        'selfreflection_cot_2': 'Self-Reflection + CoT<br>2 trials',\n",
    "        'selfreflection_cot_3': 'Self-Reflection + CoT<br>3 trials',\n",
    "        'reflexion_cot_2': 'Reflexion + CoT<br>Max. 2 trials',\n",
    "        'reflexion_cot_3': 'Reflexion + CoT<br>Max. 3 trials',\n",
    "    }\n",
    "    \n",
    "    no_change_values = []\n",
    "    incorrect_to_correct_values = []\n",
    "    correct_to_incorrect_values = []\n",
    "    \n",
    "    # For each method in the methods list\n",
    "    for method_key in ['selfreflection_cot_2', 'selfreflection_cot_3', 'reflexion_cot_2', 'reflexion_cot_3']:\n",
    "        # Map method_key to category\n",
    "        category = method_mapping[method_key]\n",
    "        \n",
    "        # Filter data for the method\n",
    "        df_method = df_prompt[df_prompt['method'] == method_key]\n",
    "        \n",
    "        # Filter data where transition == 'start_to_final'\n",
    "        df_transitions = df_method[df_method['transition'] == 'start_to_final']\n",
    "        \n",
    "        # Sum 'value' for each 'result_type'\n",
    "        transition_counts = df_transitions.groupby('result_type')['value'].sum()\n",
    "        \n",
    "        # Get counts for each transition type\n",
    "        correct_to_correct = transition_counts.get('correct_to_correct', 0)\n",
    "        incorrect_to_correct = transition_counts.get('incorrect_to_correct', 0)\n",
    "        correct_to_incorrect = transition_counts.get('correct_to_incorrect', 0)\n",
    "        incorrect_to_incorrect = transition_counts.get('incorrect_to_incorrect', 0)\n",
    "        \n",
    "        # Compute no_change\n",
    "        no_change = correct_to_correct + incorrect_to_incorrect\n",
    "        \n",
    "        # Now compute percentages\n",
    "        total = no_change + incorrect_to_correct + correct_to_incorrect\n",
    "        if total == 0:\n",
    "            no_change_perc = incorrect_to_correct_perc = correct_to_incorrect_perc = 0\n",
    "        else:\n",
    "            no_change_perc = (no_change / total) * 100\n",
    "            incorrect_to_correct_perc = (incorrect_to_correct / total) * 100\n",
    "            correct_to_incorrect_perc = (correct_to_incorrect / total) * 100\n",
    "        \n",
    "        no_change_values.append(no_change_perc)\n",
    "        incorrect_to_correct_values.append(incorrect_to_correct_perc)\n",
    "        correct_to_incorrect_values.append(correct_to_incorrect_perc)\n",
    "    \n",
    "    return categories, no_change_values, incorrect_to_correct_values, correct_to_incorrect_values\n",
    "\n",
    "# Now, collect the data for each of the four plots\n",
    "titles = [\n",
    "    '<b>Negative Prompt<br>Negative Examples</b>',\n",
    "    '<b>Negative Prompt<br>Mixed Examples</b>',\n",
    "    '<b>Critical Prompt<br>Negative Examples</b>',\n",
    "    '<b>Critical Prompt<br>Mixed Examples</b>'\n",
    "]\n",
    "\n",
    "prompt_examples = [\n",
    "    'negative_prompt_negative_examples',\n",
    "    'negative_prompt_mixed_examples',\n",
    "    'critical_prompt_negative_examples',\n",
    "    'critical_prompt_mixed_examples'\n",
    "]\n",
    "\n",
    "# Initialize figure with subplots\n",
    "fig = make_subplots(\n",
    "    rows=2, \n",
    "    cols=2, \n",
    "    subplot_titles=titles,\n",
    "    horizontal_spacing=0.1,\n",
    "    vertical_spacing=0.175,\n",
    ")\n",
    "\n",
    "# Define colors for the transition types\n",
    "transition_colors = {\n",
    "    'No Change': colors[0],\n",
    "    'Incorrect ⇒ Correct': colors[2],\n",
    "    'Correct ⇒ Incorrect': colors[3]\n",
    "}\n",
    "\n",
    "# Loop over each scenario and add traces to the appropriate subplot\n",
    "for i, (title, prompt_example) in enumerate(zip(titles, prompt_examples)):\n",
    "    categories, no_change_values, incorrect_to_correct_values, correct_to_incorrect_values = process_data(total_df, prompt_example)\n",
    "    \n",
    "    # Determine row and column\n",
    "    row = i // 2 + 1  # integer division\n",
    "    col = i % 2 + 1    # modulo\n",
    "    \n",
    "    # Show legend only for the first subplot\n",
    "    show_legend = True if i == 0 else False\n",
    "    \n",
    "    # Add traces\n",
    "    fig.add_trace(go.Bar(\n",
    "        x=categories,\n",
    "        y=no_change_values,\n",
    "        name='No Change',\n",
    "        marker_color=transition_colors['No Change'],\n",
    "        text=[f'{val:.1f}%' for val in no_change_values],\n",
    "        textposition='inside',\n",
    "        showlegend=show_legend\n",
    "    ), row=row, col=col)\n",
    "    \n",
    "    fig.add_trace(go.Bar(\n",
    "        x=categories,\n",
    "        y=incorrect_to_correct_values,\n",
    "        name='Incorrect ⇒ Correct',\n",
    "        marker_color=transition_colors['Incorrect ⇒ Correct'],\n",
    "        text=[f'{val:.1f}%' for val in incorrect_to_correct_values],\n",
    "        textposition='inside',\n",
    "        showlegend=show_legend\n",
    "    ), row=row, col=col)\n",
    "    \n",
    "    fig.add_trace(go.Bar(\n",
    "        x=categories,\n",
    "        y=correct_to_incorrect_values,\n",
    "        name='Correct ⇒ Incorrect',\n",
    "        marker_color=transition_colors['Correct ⇒ Incorrect'],\n",
    "        text=[f'{val:.1f}%' for val in correct_to_incorrect_values],\n",
    "        textposition='inside',\n",
    "        showlegend=show_legend\n",
    "    ), row=row, col=col)\n",
    "    \n",
    "    # Update axes for the current subplot\n",
    "    fig.update_xaxes(\n",
    "        categoryorder='array',\n",
    "        categoryarray=categories,\n",
    "        linecolor='black',             # Set x-axis line color to black\n",
    "        showline=True,                 # Show x-axis line\n",
    "        tickfont=dict(color='black'),  # Set x-axis tick labels to black\n",
    "        showgrid=False,                # Remove vertical grid lines\n",
    "        zeroline=False,                # Remove zero line if not needed\n",
    "        mirror='all',                  # Mirror x-axis lines on all sides (adds top line)\n",
    "        row=row,\n",
    "        col=col\n",
    "    )\n",
    "    \n",
    "    fig.update_yaxes(\n",
    "        tickformat=None,               # Show numbers without the percent symbol\n",
    "        linecolor='black',             # Set y-axis line color to black\n",
    "        showline=True,                 # Show y-axis line\n",
    "        tickfont=dict(color='black'),  # Set y-axis tick labels to black\n",
    "        gridcolor='lightgrey',         # Set grid line color to light grey\n",
    "        gridwidth=1,                 # Increase grid line width for intensity\n",
    "        zeroline=False,                # Remove zero line if not needed\n",
    "        mirror='all',                  # Mirror y-axis lines on all sides (adds right line)\n",
    "        range=[0, 100],                # Set y-axis range from 0 to 100\n",
    "        tickvals=np.arange(0, 101, 20),# Set y-axis ticks at every 10%\n",
    "        row=row,\n",
    "        col=col\n",
    "    )\n",
    "    \n",
    "    # Update y-axis title for the first column subplots\n",
    "    if col == 1:\n",
    "        fig.update_yaxes(\n",
    "            title_text='Percentage (%)',\n",
    "            row=row,\n",
    "            col=col\n",
    "        )  \n",
    "\n",
    "    if row == 2:\n",
    "        fig.update_xaxes(\n",
    "            title_text='Transition',\n",
    "            row=row,\n",
    "            col=col,\n",
    "        )\n",
    "\n",
    "# Update layout\n",
    "fig.update_layout(\n",
    "    barmode='stack',\n",
    "    title=dict(\n",
    "        text='<b>Transition Outcomes - Trip Planning (Gemini 1.5 Flash, Few-Shot Reflective Prompting)</b>',\n",
    "        x=0.5,\n",
    "        y=0.97,\n",
    "        xanchor='center',\n",
    "        yanchor='top',\n",
    "    ),\n",
    "    template=\"plotly_white\",\n",
    "    font=dict(family=\"Arial, sans-serif\", size=12),\n",
    "    width=1000,\n",
    "    height=800,\n",
    "    legend_title=\"Transition\",\n",
    "    legend=dict(\n",
    "        orientation=\"h\",\n",
    "        yanchor=\"bottom\",\n",
    "        y=1.08,\n",
    "        xanchor=\"center\",\n",
    "        x=0.5\n",
    "    ),\n",
    "    showlegend=True,\n",
    "    margin=dict(\n",
    "        t=120  # Increased top margin to accommodate the main title and legends\n",
    "    )\n",
    ")\n",
    "\n",
    "# Adjust subplot titles font size\n",
    "for annotation in fig['layout']['annotations']:\n",
    "    annotation['font'] = dict(family=\"Arial, sans-serif\", size=14)\n",
    "\n",
    "# Show the figure\n",
    "fig.show()\n",
    "fig.write_image(\"transition_by_method_prompt_examples.pdf\")\n"
   ]
  },
  {
   "cell_type": "code",
   "execution_count": null,
   "metadata": {},
   "outputs": [],
   "source": []
  },
  {
   "cell_type": "code",
   "execution_count": null,
   "metadata": {},
   "outputs": [],
   "source": []
  },
  {
   "cell_type": "code",
   "execution_count": null,
   "metadata": {},
   "outputs": [],
   "source": []
  }
 ],
 "metadata": {
  "kernelspec": {
   "display_name": ".venv",
   "language": "python",
   "name": "python3"
  },
  "language_info": {
   "codemirror_mode": {
    "name": "ipython",
    "version": 3
   },
   "file_extension": ".py",
   "mimetype": "text/x-python",
   "name": "python",
   "nbconvert_exporter": "python",
   "pygments_lexer": "ipython3",
   "version": "3.11.5"
  }
 },
 "nbformat": 4,
 "nbformat_minor": 2
}
